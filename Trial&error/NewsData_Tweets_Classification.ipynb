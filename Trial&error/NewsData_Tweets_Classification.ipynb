{
  "cells": [
    {
      "cell_type": "markdown",
      "metadata": {
        "id": "jU1PG3d97Tqz"
      },
      "source": [
        "# Tweets Classification"
      ],
      "id": "jU1PG3d97Tqz"
    },
    {
      "cell_type": "markdown",
      "metadata": {
        "id": "QIn6HTy77Tq1"
      },
      "source": [
        "## 1. Data Preprocessing"
      ],
      "id": "QIn6HTy77Tq1"
    },
    {
      "cell_type": "markdown",
      "metadata": {
        "id": "2NsiUjSC7Tq1"
      },
      "source": [
        "### 1.1 Overview"
      ],
      "id": "2NsiUjSC7Tq1"
    },
    {
      "cell_type": "code",
      "execution_count": 1,
      "metadata": {
        "id": "XDMtQe5O7Tq1"
      },
      "outputs": [],
      "source": [
        "import pandas as pd\n",
        "import numpy as np\n",
        "import matplotlib.pyplot as plt \n",
        "import seaborn as sns"
      ],
      "id": "XDMtQe5O7Tq1"
    },
    {
      "cell_type": "code",
      "execution_count": 2,
      "metadata": {
        "id": "9hEXE3yC7Tq2"
      },
      "outputs": [],
      "source": [
        "# News data\n",
        "df = pd.read_csv('/content/newsDataset.csv')\n"
      ],
      "id": "9hEXE3yC7Tq2"
    },
    {
      "cell_type": "code",
      "execution_count": 3,
      "metadata": {
        "colab": {
          "base_uri": "https://localhost:8080/",
          "height": 206
        },
        "id": "G4GBjskz7Tq2",
        "outputId": "94eb86d0-136c-4db2-aa4b-0b448b04f8a4"
      },
      "outputs": [
        {
          "output_type": "execute_result",
          "data": {
            "text/plain": [
              "                                                text     label\n",
              "0  Introducing Silvergate Capital. A California b...  Business\n",
              "1  RT @shaandelhite: In the Cambridge lecture, a ...  Business\n",
              "2  RT @GcbGulf: Financial freedom is now a realit...  Business\n",
              "3  RT @GueshMela: \".....But, we are just survivin...  Business\n",
              "4  RT @GcbGulf: Financial freedom is now a realit...  Business"
            ],
            "text/html": [
              "\n",
              "  <div id=\"df-5394a3c8-4ebc-409b-bdfe-2e7c929765ca\">\n",
              "    <div class=\"colab-df-container\">\n",
              "      <div>\n",
              "<style scoped>\n",
              "    .dataframe tbody tr th:only-of-type {\n",
              "        vertical-align: middle;\n",
              "    }\n",
              "\n",
              "    .dataframe tbody tr th {\n",
              "        vertical-align: top;\n",
              "    }\n",
              "\n",
              "    .dataframe thead th {\n",
              "        text-align: right;\n",
              "    }\n",
              "</style>\n",
              "<table border=\"1\" class=\"dataframe\">\n",
              "  <thead>\n",
              "    <tr style=\"text-align: right;\">\n",
              "      <th></th>\n",
              "      <th>text</th>\n",
              "      <th>label</th>\n",
              "    </tr>\n",
              "  </thead>\n",
              "  <tbody>\n",
              "    <tr>\n",
              "      <th>0</th>\n",
              "      <td>Introducing Silvergate Capital. A California b...</td>\n",
              "      <td>Business</td>\n",
              "    </tr>\n",
              "    <tr>\n",
              "      <th>1</th>\n",
              "      <td>RT @shaandelhite: In the Cambridge lecture, a ...</td>\n",
              "      <td>Business</td>\n",
              "    </tr>\n",
              "    <tr>\n",
              "      <th>2</th>\n",
              "      <td>RT @GcbGulf: Financial freedom is now a realit...</td>\n",
              "      <td>Business</td>\n",
              "    </tr>\n",
              "    <tr>\n",
              "      <th>3</th>\n",
              "      <td>RT @GueshMela: \".....But, we are just survivin...</td>\n",
              "      <td>Business</td>\n",
              "    </tr>\n",
              "    <tr>\n",
              "      <th>4</th>\n",
              "      <td>RT @GcbGulf: Financial freedom is now a realit...</td>\n",
              "      <td>Business</td>\n",
              "    </tr>\n",
              "  </tbody>\n",
              "</table>\n",
              "</div>\n",
              "      <button class=\"colab-df-convert\" onclick=\"convertToInteractive('df-5394a3c8-4ebc-409b-bdfe-2e7c929765ca')\"\n",
              "              title=\"Convert this dataframe to an interactive table.\"\n",
              "              style=\"display:none;\">\n",
              "        \n",
              "  <svg xmlns=\"http://www.w3.org/2000/svg\" height=\"24px\"viewBox=\"0 0 24 24\"\n",
              "       width=\"24px\">\n",
              "    <path d=\"M0 0h24v24H0V0z\" fill=\"none\"/>\n",
              "    <path d=\"M18.56 5.44l.94 2.06.94-2.06 2.06-.94-2.06-.94-.94-2.06-.94 2.06-2.06.94zm-11 1L8.5 8.5l.94-2.06 2.06-.94-2.06-.94L8.5 2.5l-.94 2.06-2.06.94zm10 10l.94 2.06.94-2.06 2.06-.94-2.06-.94-.94-2.06-.94 2.06-2.06.94z\"/><path d=\"M17.41 7.96l-1.37-1.37c-.4-.4-.92-.59-1.43-.59-.52 0-1.04.2-1.43.59L10.3 9.45l-7.72 7.72c-.78.78-.78 2.05 0 2.83L4 21.41c.39.39.9.59 1.41.59.51 0 1.02-.2 1.41-.59l7.78-7.78 2.81-2.81c.8-.78.8-2.07 0-2.86zM5.41 20L4 18.59l7.72-7.72 1.47 1.35L5.41 20z\"/>\n",
              "  </svg>\n",
              "      </button>\n",
              "      \n",
              "  <style>\n",
              "    .colab-df-container {\n",
              "      display:flex;\n",
              "      flex-wrap:wrap;\n",
              "      gap: 12px;\n",
              "    }\n",
              "\n",
              "    .colab-df-convert {\n",
              "      background-color: #E8F0FE;\n",
              "      border: none;\n",
              "      border-radius: 50%;\n",
              "      cursor: pointer;\n",
              "      display: none;\n",
              "      fill: #1967D2;\n",
              "      height: 32px;\n",
              "      padding: 0 0 0 0;\n",
              "      width: 32px;\n",
              "    }\n",
              "\n",
              "    .colab-df-convert:hover {\n",
              "      background-color: #E2EBFA;\n",
              "      box-shadow: 0px 1px 2px rgba(60, 64, 67, 0.3), 0px 1px 3px 1px rgba(60, 64, 67, 0.15);\n",
              "      fill: #174EA6;\n",
              "    }\n",
              "\n",
              "    [theme=dark] .colab-df-convert {\n",
              "      background-color: #3B4455;\n",
              "      fill: #D2E3FC;\n",
              "    }\n",
              "\n",
              "    [theme=dark] .colab-df-convert:hover {\n",
              "      background-color: #434B5C;\n",
              "      box-shadow: 0px 1px 3px 1px rgba(0, 0, 0, 0.15);\n",
              "      filter: drop-shadow(0px 1px 2px rgba(0, 0, 0, 0.3));\n",
              "      fill: #FFFFFF;\n",
              "    }\n",
              "  </style>\n",
              "\n",
              "      <script>\n",
              "        const buttonEl =\n",
              "          document.querySelector('#df-5394a3c8-4ebc-409b-bdfe-2e7c929765ca button.colab-df-convert');\n",
              "        buttonEl.style.display =\n",
              "          google.colab.kernel.accessAllowed ? 'block' : 'none';\n",
              "\n",
              "        async function convertToInteractive(key) {\n",
              "          const element = document.querySelector('#df-5394a3c8-4ebc-409b-bdfe-2e7c929765ca');\n",
              "          const dataTable =\n",
              "            await google.colab.kernel.invokeFunction('convertToInteractive',\n",
              "                                                     [key], {});\n",
              "          if (!dataTable) return;\n",
              "\n",
              "          const docLinkHtml = 'Like what you see? Visit the ' +\n",
              "            '<a target=\"_blank\" href=https://colab.research.google.com/notebooks/data_table.ipynb>data table notebook</a>'\n",
              "            + ' to learn more about interactive tables.';\n",
              "          element.innerHTML = '';\n",
              "          dataTable['output_type'] = 'display_data';\n",
              "          await google.colab.output.renderOutput(dataTable, element);\n",
              "          const docLink = document.createElement('div');\n",
              "          docLink.innerHTML = docLinkHtml;\n",
              "          element.appendChild(docLink);\n",
              "        }\n",
              "      </script>\n",
              "    </div>\n",
              "  </div>\n",
              "  "
            ]
          },
          "metadata": {},
          "execution_count": 3
        }
      ],
      "source": [
        "df.head()"
      ],
      "id": "G4GBjskz7Tq2"
    },
    {
      "cell_type": "code",
      "execution_count": 4,
      "metadata": {
        "colab": {
          "base_uri": "https://localhost:8080/"
        },
        "id": "Csxd4ta77Tq3",
        "outputId": "f375103f-8391-4ebe-f763-7319de74cedb"
      },
      "outputs": [
        {
          "output_type": "stream",
          "name": "stdout",
          "text": [
            "<class 'pandas.core.frame.DataFrame'>\n",
            "RangeIndex: 8286 entries, 0 to 8285\n",
            "Data columns (total 2 columns):\n",
            " #   Column  Non-Null Count  Dtype \n",
            "---  ------  --------------  ----- \n",
            " 0   text    8286 non-null   object\n",
            " 1   label   8286 non-null   object\n",
            "dtypes: object(2)\n",
            "memory usage: 129.6+ KB\n"
          ]
        }
      ],
      "source": [
        "df.info()"
      ],
      "id": "Csxd4ta77Tq3"
    },
    {
      "cell_type": "code",
      "execution_count": 5,
      "metadata": {
        "colab": {
          "base_uri": "https://localhost:8080/"
        },
        "id": "_r5GThUl7Tq3",
        "outputId": "f197ee64-80f6-485e-ff5a-2b16b442f95e"
      },
      "outputs": [
        {
          "output_type": "execute_result",
          "data": {
            "text/plain": [
              "(8286, 2)"
            ]
          },
          "metadata": {},
          "execution_count": 5
        }
      ],
      "source": [
        "df.shape\n"
      ],
      "id": "_r5GThUl7Tq3"
    },
    {
      "cell_type": "code",
      "execution_count": 6,
      "metadata": {
        "colab": {
          "base_uri": "https://localhost:8080/"
        },
        "id": "m7HFuECx7Tq4",
        "outputId": "5360183c-0484-42f2-f521-b5dea9ca91d6"
      },
      "outputs": [
        {
          "output_type": "execute_result",
          "data": {
            "text/plain": [
              "text     0\n",
              "label    0\n",
              "dtype: int64"
            ]
          },
          "metadata": {},
          "execution_count": 6
        }
      ],
      "source": [
        "df.isnull().sum()"
      ],
      "id": "m7HFuECx7Tq4"
    },
    {
      "cell_type": "code",
      "execution_count": 7,
      "metadata": {
        "id": "n7001YcN7Tq4"
      },
      "outputs": [],
      "source": [
        "# Label Encoding\n",
        "from sklearn.preprocessing import LabelEncoder\n",
        "\n",
        "encoder = LabelEncoder()\n",
        "\n",
        "labels = df['label']\n",
        "\n",
        "# fit the encoder to the labels and transform the labels to numerical values\n",
        "encoded_labels = encoder.fit_transform(labels)\n",
        "df['label'] = encoded_labels"
      ],
      "id": "n7001YcN7Tq4"
    },
    {
      "cell_type": "code",
      "execution_count": 8,
      "metadata": {
        "colab": {
          "base_uri": "https://localhost:8080/"
        },
        "id": "G6oNBvEd7Tq4",
        "outputId": "f2190115-5ace-437f-fb16-a7645760897b"
      },
      "outputs": [
        {
          "output_type": "execute_result",
          "data": {
            "text/plain": [
              "array([0, 1, 2, 3, 4, 5, 6, 7, 8, 9])"
            ]
          },
          "metadata": {},
          "execution_count": 8
        }
      ],
      "source": [
        "df['label'].unique()"
      ],
      "id": "G6oNBvEd7Tq4"
    },
    {
      "cell_type": "markdown",
      "metadata": {
        "id": "lSPFP_hn7Tq5"
      },
      "source": [
        "### 2.2 Reformat Tweets "
      ],
      "id": "lSPFP_hn7Tq5"
    },
    {
      "cell_type": "code",
      "execution_count": 9,
      "metadata": {
        "id": "DiMUHgrC7Tq5",
        "colab": {
          "base_uri": "https://localhost:8080/"
        },
        "outputId": "7e2b73e7-ded3-4c65-d3dd-92039e32f4b3"
      },
      "outputs": [
        {
          "output_type": "stream",
          "name": "stderr",
          "text": [
            "[nltk_data] Downloading package stopwords to /root/nltk_data...\n",
            "[nltk_data]   Unzipping corpora/stopwords.zip.\n",
            "[nltk_data] Downloading package wordnet to /root/nltk_data...\n",
            "[nltk_data] Downloading package punkt to /root/nltk_data...\n",
            "[nltk_data]   Unzipping tokenizers/punkt.zip.\n",
            "[nltk_data] Downloading package omw-1.4 to /root/nltk_data...\n"
          ]
        }
      ],
      "source": [
        "import nltk\n",
        "from nltk.corpus import stopwords\n",
        "from nltk.stem import WordNetLemmatizer\n",
        "\n",
        "# download required NLTK resources\n",
        "nltk.download('stopwords')\n",
        "nltk.download('wordnet')\n",
        "nltk.download('punkt')\n",
        "nltk.download('omw-1.4')\n",
        "\n",
        "# define a function to filter stop words and perform lemmatization\n",
        "def preprocess_text(text):\n",
        "    # convert text to lowercase\n",
        "    text = text.lower()\n",
        "    \n",
        "    # tokenize the text into individual words\n",
        "    words = nltk.word_tokenize(text)\n",
        "    \n",
        "    # filter out stop words\n",
        "    stop_words = set(stopwords.words('english'))\n",
        "    words = [word for word in words if word not in stop_words]\n",
        "    \n",
        "    # perform lemmatization\n",
        "    lemmatizer = WordNetLemmatizer()\n",
        "    words = [lemmatizer.lemmatize(word) for word in words]\n",
        "    \n",
        "    # join the words back into a single string\n",
        "    preprocessed_text = ' '.join(words)\n",
        "    \n",
        "    return preprocessed_text\n",
        "\n",
        "\n",
        "import re\n",
        "\n",
        "def format_tweets(tweet):\n",
        "    # mask web urls\n",
        "    # format twitter account\n",
        "    tweet = re.sub(r\"(\\s*)(@[\\S]+)\\b\", r'', tweet)\n",
        "    tweet = re.sub(r\"(\\s*)(#[\\S]+)\\b\", r'', tweet)\n",
        "    tweet = re.sub(r\"(\\s*)(http:[\\S]+)\\b\", r'', tweet)\n",
        "    tweet = re.sub(r\"(\\s*)(https:[\\S]+)\\b\", r'', tweet)\n",
        "    tweet = re.sub(\"[^A-Za-z -]\", \" \", tweet)\n",
        "    tweet = re.sub(\"&(amp;)+\", \" \", tweet)\n",
        "    return tweet.lower()"
      ],
      "id": "DiMUHgrC7Tq5"
    },
    {
      "cell_type": "code",
      "execution_count": 10,
      "metadata": {
        "colab": {
          "base_uri": "https://localhost:8080/",
          "height": 206
        },
        "id": "kriTPNi57Tq5",
        "outputId": "ca3c1bc8-332e-48e5-8289-de37c47f2cc8"
      },
      "outputs": [
        {
          "output_type": "execute_result",
          "data": {
            "text/plain": [
              "                                                text  label  \\\n",
              "0  Introducing Silvergate Capital. A California b...      0   \n",
              "1  RT @shaandelhite: In the Cambridge lecture, a ...      0   \n",
              "2  RT @GcbGulf: Financial freedom is now a realit...      0   \n",
              "3  RT @GueshMela: \".....But, we are just survivin...      0   \n",
              "4  RT @GcbGulf: Financial freedom is now a realit...      0   \n",
              "\n",
              "                                         format_text  \n",
              "0  introducing silvergate capital   california ba...  \n",
              "1  rt   shaandelhite   cambridge lecture   questi...  \n",
              "2  rt   gcbgulf   financial freedom reality gulf ...  \n",
              "3  rt   gueshmela              surviving honest  ...  \n",
              "4  rt   gcbgulf   financial freedom reality gulf ...  "
            ],
            "text/html": [
              "\n",
              "  <div id=\"df-9503de66-aa55-4aeb-8f8f-eef9e35577a7\">\n",
              "    <div class=\"colab-df-container\">\n",
              "      <div>\n",
              "<style scoped>\n",
              "    .dataframe tbody tr th:only-of-type {\n",
              "        vertical-align: middle;\n",
              "    }\n",
              "\n",
              "    .dataframe tbody tr th {\n",
              "        vertical-align: top;\n",
              "    }\n",
              "\n",
              "    .dataframe thead th {\n",
              "        text-align: right;\n",
              "    }\n",
              "</style>\n",
              "<table border=\"1\" class=\"dataframe\">\n",
              "  <thead>\n",
              "    <tr style=\"text-align: right;\">\n",
              "      <th></th>\n",
              "      <th>text</th>\n",
              "      <th>label</th>\n",
              "      <th>format_text</th>\n",
              "    </tr>\n",
              "  </thead>\n",
              "  <tbody>\n",
              "    <tr>\n",
              "      <th>0</th>\n",
              "      <td>Introducing Silvergate Capital. A California b...</td>\n",
              "      <td>0</td>\n",
              "      <td>introducing silvergate capital   california ba...</td>\n",
              "    </tr>\n",
              "    <tr>\n",
              "      <th>1</th>\n",
              "      <td>RT @shaandelhite: In the Cambridge lecture, a ...</td>\n",
              "      <td>0</td>\n",
              "      <td>rt   shaandelhite   cambridge lecture   questi...</td>\n",
              "    </tr>\n",
              "    <tr>\n",
              "      <th>2</th>\n",
              "      <td>RT @GcbGulf: Financial freedom is now a realit...</td>\n",
              "      <td>0</td>\n",
              "      <td>rt   gcbgulf   financial freedom reality gulf ...</td>\n",
              "    </tr>\n",
              "    <tr>\n",
              "      <th>3</th>\n",
              "      <td>RT @GueshMela: \".....But, we are just survivin...</td>\n",
              "      <td>0</td>\n",
              "      <td>rt   gueshmela              surviving honest  ...</td>\n",
              "    </tr>\n",
              "    <tr>\n",
              "      <th>4</th>\n",
              "      <td>RT @GcbGulf: Financial freedom is now a realit...</td>\n",
              "      <td>0</td>\n",
              "      <td>rt   gcbgulf   financial freedom reality gulf ...</td>\n",
              "    </tr>\n",
              "  </tbody>\n",
              "</table>\n",
              "</div>\n",
              "      <button class=\"colab-df-convert\" onclick=\"convertToInteractive('df-9503de66-aa55-4aeb-8f8f-eef9e35577a7')\"\n",
              "              title=\"Convert this dataframe to an interactive table.\"\n",
              "              style=\"display:none;\">\n",
              "        \n",
              "  <svg xmlns=\"http://www.w3.org/2000/svg\" height=\"24px\"viewBox=\"0 0 24 24\"\n",
              "       width=\"24px\">\n",
              "    <path d=\"M0 0h24v24H0V0z\" fill=\"none\"/>\n",
              "    <path d=\"M18.56 5.44l.94 2.06.94-2.06 2.06-.94-2.06-.94-.94-2.06-.94 2.06-2.06.94zm-11 1L8.5 8.5l.94-2.06 2.06-.94-2.06-.94L8.5 2.5l-.94 2.06-2.06.94zm10 10l.94 2.06.94-2.06 2.06-.94-2.06-.94-.94-2.06-.94 2.06-2.06.94z\"/><path d=\"M17.41 7.96l-1.37-1.37c-.4-.4-.92-.59-1.43-.59-.52 0-1.04.2-1.43.59L10.3 9.45l-7.72 7.72c-.78.78-.78 2.05 0 2.83L4 21.41c.39.39.9.59 1.41.59.51 0 1.02-.2 1.41-.59l7.78-7.78 2.81-2.81c.8-.78.8-2.07 0-2.86zM5.41 20L4 18.59l7.72-7.72 1.47 1.35L5.41 20z\"/>\n",
              "  </svg>\n",
              "      </button>\n",
              "      \n",
              "  <style>\n",
              "    .colab-df-container {\n",
              "      display:flex;\n",
              "      flex-wrap:wrap;\n",
              "      gap: 12px;\n",
              "    }\n",
              "\n",
              "    .colab-df-convert {\n",
              "      background-color: #E8F0FE;\n",
              "      border: none;\n",
              "      border-radius: 50%;\n",
              "      cursor: pointer;\n",
              "      display: none;\n",
              "      fill: #1967D2;\n",
              "      height: 32px;\n",
              "      padding: 0 0 0 0;\n",
              "      width: 32px;\n",
              "    }\n",
              "\n",
              "    .colab-df-convert:hover {\n",
              "      background-color: #E2EBFA;\n",
              "      box-shadow: 0px 1px 2px rgba(60, 64, 67, 0.3), 0px 1px 3px 1px rgba(60, 64, 67, 0.15);\n",
              "      fill: #174EA6;\n",
              "    }\n",
              "\n",
              "    [theme=dark] .colab-df-convert {\n",
              "      background-color: #3B4455;\n",
              "      fill: #D2E3FC;\n",
              "    }\n",
              "\n",
              "    [theme=dark] .colab-df-convert:hover {\n",
              "      background-color: #434B5C;\n",
              "      box-shadow: 0px 1px 3px 1px rgba(0, 0, 0, 0.15);\n",
              "      filter: drop-shadow(0px 1px 2px rgba(0, 0, 0, 0.3));\n",
              "      fill: #FFFFFF;\n",
              "    }\n",
              "  </style>\n",
              "\n",
              "      <script>\n",
              "        const buttonEl =\n",
              "          document.querySelector('#df-9503de66-aa55-4aeb-8f8f-eef9e35577a7 button.colab-df-convert');\n",
              "        buttonEl.style.display =\n",
              "          google.colab.kernel.accessAllowed ? 'block' : 'none';\n",
              "\n",
              "        async function convertToInteractive(key) {\n",
              "          const element = document.querySelector('#df-9503de66-aa55-4aeb-8f8f-eef9e35577a7');\n",
              "          const dataTable =\n",
              "            await google.colab.kernel.invokeFunction('convertToInteractive',\n",
              "                                                     [key], {});\n",
              "          if (!dataTable) return;\n",
              "\n",
              "          const docLinkHtml = 'Like what you see? Visit the ' +\n",
              "            '<a target=\"_blank\" href=https://colab.research.google.com/notebooks/data_table.ipynb>data table notebook</a>'\n",
              "            + ' to learn more about interactive tables.';\n",
              "          element.innerHTML = '';\n",
              "          dataTable['output_type'] = 'display_data';\n",
              "          await google.colab.output.renderOutput(dataTable, element);\n",
              "          const docLink = document.createElement('div');\n",
              "          docLink.innerHTML = docLinkHtml;\n",
              "          element.appendChild(docLink);\n",
              "        }\n",
              "      </script>\n",
              "    </div>\n",
              "  </div>\n",
              "  "
            ]
          },
          "metadata": {},
          "execution_count": 10
        }
      ],
      "source": [
        "df['format_text'] = df['text'].apply(preprocess_text) # filter stop words and lemmetization\n",
        "df['format_text'] = df['format_text'].apply(format_tweets) # format tweets\n",
        "\n",
        "df.head()"
      ],
      "id": "kriTPNi57Tq5"
    },
    {
      "cell_type": "markdown",
      "metadata": {
        "id": "KzbU6c-x7Tq6"
      },
      "source": [
        "## 3. ML models"
      ],
      "id": "KzbU6c-x7Tq6"
    },
    {
      "cell_type": "markdown",
      "source": [
        "\n",
        "### 3.1 Multinomial Naive Bayes\n",
        "---\n",
        "\n"
      ],
      "metadata": {
        "id": "Wxe1sFvfqYAy"
      },
      "id": "Wxe1sFvfqYAy"
    },
    {
      "cell_type": "code",
      "execution_count": 11,
      "metadata": {
        "colab": {
          "base_uri": "https://localhost:8080/"
        },
        "id": "I2vz-jOC7Tq6",
        "outputId": "53e9198f-b434-495b-a13e-bccf9b823106"
      },
      "outputs": [
        {
          "output_type": "stream",
          "name": "stdout",
          "text": [
            "              precision    recall  f1-score   support\n",
            "\n",
            "           0       0.95      0.98      0.97       225\n",
            "           1       0.81      0.82      0.82       200\n",
            "           2       0.88      0.89      0.88       188\n",
            "           3       0.91      0.92      0.92       201\n",
            "           4       0.90      0.94      0.92       189\n",
            "           5       0.94      0.91      0.93       190\n",
            "           6       0.82      0.81      0.82       208\n",
            "           7       0.91      0.95      0.93       200\n",
            "           8       1.00      0.78      0.88        27\n",
            "           9       1.00      0.43      0.60        30\n",
            "\n",
            "    accuracy                           0.89      1658\n",
            "   macro avg       0.91      0.84      0.87      1658\n",
            "weighted avg       0.89      0.89      0.89      1658\n",
            "\n"
          ]
        }
      ],
      "source": [
        "from sklearn.model_selection import train_test_split\n",
        "from sklearn.feature_extraction.text import CountVectorizer\n",
        "from sklearn.naive_bayes import MultinomialNB\n",
        "from sklearn.metrics import confusion_matrix, accuracy_score, classification_report, matthews_corrcoef\n",
        "\n",
        "\n",
        "# Naive Bayes\n",
        "\n",
        "X_train, X_test, y_train, y_test = train_test_split(df['format_text'], df['label'], test_size=0.2)\n",
        "\n",
        "# create a bag-of-words representation of the text data\n",
        "vectorizer = CountVectorizer()\n",
        "X_train_vectors = vectorizer.fit_transform(X_train)\n",
        "X_test_vectors = vectorizer.transform(X_test)\n",
        "\n",
        "# train a Naive Bayes classifier on the training data\n",
        "classifier = MultinomialNB()\n",
        "classifier.fit(X_train_vectors, y_train)\n",
        "# Predict labels for test set\n",
        "y_pred = classifier.predict(X_test_vectors)\n",
        "\n",
        "# evaluate the classifier on the testing data\n",
        "print(classification_report(y_test, y_pred))"
      ],
      "id": "I2vz-jOC7Tq6"
    },
    {
      "cell_type": "code",
      "source": [
        "from sklearn.metrics import accuracy_score, precision_score, recall_score, f1_score, classification_report\n",
        "from sklearn.metrics import precision_recall_fscore_support as score\n",
        "\n",
        "# Accuracy score\n",
        "print('accuracy is',accuracy_score(y_test,y_pred))\n",
        "\n",
        "# Calculate the MCC for the predictions\n",
        "mcc = matthews_corrcoef(y_test, y_pred)\n",
        "print(\"MCC:\", mcc)\n",
        "\n",
        "# Macro-Averaging\n",
        "macro_accuracy = accuracy_score(y_test, y_pred)\n",
        "macro_precision, macro_recall, macro_f1, _ = score(y_test, y_pred, average='macro')\n",
        "\n",
        "print(\"Macro-Averaging Metrics:\")\n",
        "print(f\"Accuracy: {macro_accuracy:.2f}\")\n",
        "print(f\"Precision: {macro_precision:.2f}\")\n",
        "print(f\"Recall: {macro_recall:.2f}\")\n",
        "print(f\"F1 Score: {macro_f1:.2f}\")\n",
        "\n",
        "# Micro-Averaging\n",
        "micro_accuracy = accuracy_score(y_test, y_pred)\n",
        "micro_precision, micro_recall, micro_f1, _ = score(y_test, y_pred, average='micro')\n",
        "\n",
        "print(\"\\nMicro-Averaging Metrics:\")\n",
        "print(f\"Accuracy: {micro_accuracy:.2f}\")\n",
        "print(f\"Precision: {micro_precision:.2f}\")\n",
        "print(f\"Recall: {micro_recall:.2f}\")\n",
        "print(f\"F1 Score: {micro_f1:.2f}\")\n"
      ],
      "metadata": {
        "colab": {
          "base_uri": "https://localhost:8080/"
        },
        "id": "jlCPrrxgkWiB",
        "outputId": "d45ec128-bbaf-4e2a-9352-7b8a421dfe0b"
      },
      "id": "jlCPrrxgkWiB",
      "execution_count": 19,
      "outputs": [
        {
          "output_type": "stream",
          "name": "stdout",
          "text": [
            "accuracy is 0.8932448733413751\n",
            "MCC: 0.8789406935525124\n",
            "Macro-Averaging Metrics:\n",
            "Accuracy: 0.89\n",
            "Precision: 0.91\n",
            "Recall: 0.84\n",
            "F1 Score: 0.87\n",
            "\n",
            "Micro-Averaging Metrics:\n",
            "Accuracy: 0.89\n",
            "Precision: 0.89\n",
            "Recall: 0.89\n",
            "F1 Score: 0.89\n"
          ]
        }
      ]
    },
    {
      "cell_type": "markdown",
      "source": [
        "\n",
        "### 3.2 SVM\n",
        "---\n",
        "\n"
      ],
      "metadata": {
        "id": "PpHJ4YwpqgM0"
      },
      "id": "PpHJ4YwpqgM0"
    },
    {
      "cell_type": "code",
      "execution_count": 22,
      "metadata": {
        "colab": {
          "base_uri": "https://localhost:8080/"
        },
        "id": "tqlJBnb57Tq6",
        "outputId": "ee7b2880-64a8-48e8-a9fa-22df58df59f9"
      },
      "outputs": [
        {
          "output_type": "stream",
          "name": "stdout",
          "text": [
            "              precision    recall  f1-score   support\n",
            "\n",
            "           0       0.98      0.97      0.97       213\n",
            "           1       0.83      0.88      0.85       212\n",
            "           2       0.82      0.93      0.87       207\n",
            "           3       0.95      0.88      0.91       201\n",
            "           4       0.95      0.89      0.92       195\n",
            "           5       0.96      0.94      0.95       205\n",
            "           6       0.78      0.85      0.81       182\n",
            "           7       0.98      0.88      0.93       185\n",
            "           8       0.87      0.87      0.87        23\n",
            "           9       1.00      0.91      0.96        35\n",
            "\n",
            "    accuracy                           0.90      1658\n",
            "   macro avg       0.91      0.90      0.90      1658\n",
            "weighted avg       0.91      0.90      0.90      1658\n",
            "\n"
          ]
        }
      ],
      "source": [
        "# SVM\n",
        "from sklearn.svm import SVC\n",
        "from sklearn.feature_extraction.text import TfidfVectorizer\n",
        "\n",
        "X_train, X_test, y_train, y_test = train_test_split(df['format_text'], df['label'], test_size=0.2)\n",
        "\n",
        "# Create TF-IDF vectors from text data\n",
        "vectorizer = TfidfVectorizer(max_features=1000)\n",
        "X_train_vectors = vectorizer.fit_transform(X_train)\n",
        "X_test_vectors = vectorizer.transform(X_test)\n",
        "\n",
        "# Train SVM classifier on train set\n",
        "classifier = SVC(kernel='linear')\n",
        "classifier.fit(X_train_vectors, y_train)\n",
        "\n",
        "# Predict labels for test set\n",
        "y_pred = classifier.predict(X_test_vectors)\n",
        "\n",
        "\n",
        "print(classification_report(y_test, y_pred))"
      ],
      "id": "tqlJBnb57Tq6"
    },
    {
      "cell_type": "code",
      "source": [
        "# Accuracy score\n",
        "print('accuracy is',accuracy_score(y_test,y_pred))\n",
        "\n",
        "# Calculate the MCC for the predictions\n",
        "mcc = matthews_corrcoef(y_test, y_pred)\n",
        "print(\"MCC:\", mcc)\n",
        "\n",
        "# Macro-Averaging\n",
        "macro_accuracy = accuracy_score(y_test, y_pred)\n",
        "macro_precision, macro_recall, macro_f1, _ = score(y_test, y_pred, average='macro')\n",
        "\n",
        "print(\"Macro-Averaging Metrics:\")\n",
        "print(f\"Accuracy: {macro_accuracy:.2f}\")\n",
        "print(f\"Precision: {macro_precision:.2f}\")\n",
        "print(f\"Recall: {macro_recall:.2f}\")\n",
        "print(f\"F1 Score: {macro_f1:.2f}\")\n",
        "\n",
        "# Micro-Averaging\n",
        "micro_accuracy = accuracy_score(y_test, y_pred)\n",
        "micro_precision, micro_recall, micro_f1, _ = score(y_test, y_pred, average='micro')\n",
        "\n",
        "print(\"\\nMicro-Averaging Metrics:\")\n",
        "print(f\"Accuracy: {micro_accuracy:.2f}\")\n",
        "print(f\"Precision: {micro_precision:.2f}\")\n",
        "print(f\"Recall: {micro_recall:.2f}\")\n",
        "print(f\"F1 Score: {micro_f1:.2f}\")\n"
      ],
      "metadata": {
        "colab": {
          "base_uri": "https://localhost:8080/"
        },
        "id": "0qM5YfThqsKS",
        "outputId": "52bd0dd4-3312-459b-bbe9-723281167164"
      },
      "id": "0qM5YfThqsKS",
      "execution_count": 23,
      "outputs": [
        {
          "output_type": "stream",
          "name": "stdout",
          "text": [
            "accuracy is 0.9028950542822678\n",
            "MCC: 0.8902982649042569\n",
            "Macro-Averaging Metrics:\n",
            "Accuracy: 0.90\n",
            "Precision: 0.91\n",
            "Recall: 0.90\n",
            "F1 Score: 0.90\n",
            "\n",
            "Micro-Averaging Metrics:\n",
            "Accuracy: 0.90\n",
            "Precision: 0.90\n",
            "Recall: 0.90\n",
            "F1 Score: 0.90\n"
          ]
        }
      ]
    },
    {
      "cell_type": "markdown",
      "source": [
        "### 3.2 CNN\n",
        "\n",
        "---\n",
        "\n"
      ],
      "metadata": {
        "id": "q7Vb1HKsqp8K"
      },
      "id": "q7Vb1HKsqp8K"
    },
    {
      "cell_type": "code",
      "execution_count": 24,
      "metadata": {
        "colab": {
          "base_uri": "https://localhost:8080/"
        },
        "id": "b-dE27wV7Tq7",
        "outputId": "eb517c8d-3318-401a-ddd1-4e332618eb88"
      },
      "outputs": [
        {
          "output_type": "stream",
          "name": "stdout",
          "text": [
            "Epoch 1/10\n",
            "208/208 [==============================] - 6s 21ms/step - loss: -309123.0938 - accuracy: 0.1192\n",
            "Epoch 2/10\n",
            "208/208 [==============================] - 4s 21ms/step - loss: -14831303.0000 - accuracy: 0.1187\n",
            "Epoch 3/10\n",
            "208/208 [==============================] - 5s 23ms/step - loss: -114194608.0000 - accuracy: 0.1187\n",
            "Epoch 4/10\n",
            "208/208 [==============================] - 4s 20ms/step - loss: -440070560.0000 - accuracy: 0.1187\n",
            "Epoch 5/10\n",
            "208/208 [==============================] - 5s 22ms/step - loss: -1176233216.0000 - accuracy: 0.1187\n",
            "Epoch 6/10\n",
            "208/208 [==============================] - 4s 21ms/step - loss: -2523847168.0000 - accuracy: 0.1187\n",
            "Epoch 7/10\n",
            "208/208 [==============================] - 4s 20ms/step - loss: -4707386880.0000 - accuracy: 0.1187\n",
            "Epoch 8/10\n",
            "208/208 [==============================] - 5s 23ms/step - loss: -7927078400.0000 - accuracy: 0.1187\n",
            "Epoch 9/10\n",
            "208/208 [==============================] - 4s 20ms/step - loss: -12418759680.0000 - accuracy: 0.1187\n",
            "Epoch 10/10\n",
            "208/208 [==============================] - 4s 20ms/step - loss: -18381176832.0000 - accuracy: 0.1187\n",
            "52/52 [==============================] - 0s 5ms/step\n",
            "              precision    recall  f1-score   support\n",
            "\n",
            "           0       0.00      0.00      0.00       202\n",
            "           1       0.13      1.00      0.23       213\n",
            "           2       0.00      0.00      0.00       200\n",
            "           3       0.00      0.00      0.00       190\n",
            "           4       0.00      0.00      0.00       216\n",
            "           5       0.00      0.00      0.00       200\n",
            "           6       0.00      0.00      0.00       182\n",
            "           7       0.00      0.00      0.00       182\n",
            "           8       0.00      0.00      0.00        33\n",
            "           9       0.00      0.00      0.00        40\n",
            "\n",
            "    accuracy                           0.13      1658\n",
            "   macro avg       0.01      0.10      0.02      1658\n",
            "weighted avg       0.02      0.13      0.03      1658\n",
            "\n"
          ]
        },
        {
          "output_type": "stream",
          "name": "stderr",
          "text": [
            "/usr/local/lib/python3.8/dist-packages/sklearn/metrics/_classification.py:1344: UndefinedMetricWarning: Precision and F-score are ill-defined and being set to 0.0 in labels with no predicted samples. Use `zero_division` parameter to control this behavior.\n",
            "  _warn_prf(average, modifier, msg_start, len(result))\n",
            "/usr/local/lib/python3.8/dist-packages/sklearn/metrics/_classification.py:1344: UndefinedMetricWarning: Precision and F-score are ill-defined and being set to 0.0 in labels with no predicted samples. Use `zero_division` parameter to control this behavior.\n",
            "  _warn_prf(average, modifier, msg_start, len(result))\n",
            "/usr/local/lib/python3.8/dist-packages/sklearn/metrics/_classification.py:1344: UndefinedMetricWarning: Precision and F-score are ill-defined and being set to 0.0 in labels with no predicted samples. Use `zero_division` parameter to control this behavior.\n",
            "  _warn_prf(average, modifier, msg_start, len(result))\n"
          ]
        }
      ],
      "source": [
        "# CNN\n",
        "\n",
        "from keras.models import Sequential\n",
        "from keras.layers import Embedding, Conv1D, MaxPooling1D, Flatten, Dense\n",
        "from keras.preprocessing.text import Tokenizer\n",
        "from tensorflow.keras.preprocessing.sequence import pad_sequences\n",
        "\n",
        "\n",
        "# Split data into train and test sets\n",
        "X_train, X_test, y_train, y_test = train_test_split(df['format_text'], df['label'], test_size=0.2, random_state=42)\n",
        "\n",
        "# Tokenize text data and pad sequences\n",
        "tokenizer = Tokenizer(num_words=10000)\n",
        "tokenizer.fit_on_texts(X_train)\n",
        "X_train_sequences = tokenizer.texts_to_sequences(X_train)\n",
        "X_train_padded = pad_sequences(X_train_sequences, maxlen=100, padding='post', truncating='post')\n",
        "X_test_sequences = tokenizer.texts_to_sequences(X_test)\n",
        "X_test_padded = pad_sequences(X_test_sequences, maxlen=100, padding='post', truncating='post')\n",
        "\n",
        "# Define CNN model\n",
        "model = Sequential()\n",
        "model.add(Embedding(input_dim=10000, output_dim=100, input_length=100))\n",
        "model.add(Conv1D(filters=64, kernel_size=3, activation='relu'))\n",
        "model.add(MaxPooling1D(pool_size=2))\n",
        "model.add(Flatten())\n",
        "model.add(Dense(units=64, activation='relu'))\n",
        "model.add(Dense(units=1, activation='sigmoid'))\n",
        "model.compile(optimizer='adam', loss='binary_crossentropy', metrics=['accuracy'])\n",
        "\n",
        "# Train CNN model\n",
        "model.fit(X_train_padded, y_train, epochs=10, batch_size=32)\n",
        "\n",
        "# Evaluate CNN model on test set\n",
        "y_pred = model.predict(X_test_padded)\n",
        "y_pred = np.round(y_pred).astype(int).flatten()\n",
        "print(classification_report(y_test, y_pred))"
      ],
      "id": "b-dE27wV7Tq7"
    },
    {
      "cell_type": "code",
      "source": [
        "# Accuracy score\n",
        "print('accuracy is',accuracy_score(y_test,y_pred))\n",
        "\n",
        "# Calculate the MCC for the predictions\n",
        "mcc = matthews_corrcoef(y_test, y_pred)\n",
        "print(\"MCC:\", mcc)\n",
        "\n",
        "# Macro-Averaging\n",
        "macro_accuracy = accuracy_score(y_test, y_pred)\n",
        "macro_precision, macro_recall, macro_f1, _ = score(y_test, y_pred, average='macro')\n",
        "\n",
        "print(\"Macro-Averaging Metrics:\")\n",
        "print(f\"Accuracy: {macro_accuracy:.2f}\")\n",
        "print(f\"Precision: {macro_precision:.2f}\")\n",
        "print(f\"Recall: {macro_recall:.2f}\")\n",
        "print(f\"F1 Score: {macro_f1:.2f}\")\n",
        "\n",
        "# Micro-Averaging\n",
        "micro_accuracy = accuracy_score(y_test, y_pred)\n",
        "micro_precision, micro_recall, micro_f1, _ = score(y_test, y_pred, average='micro')\n",
        "\n",
        "print(\"\\nMicro-Averaging Metrics:\")\n",
        "print(f\"Accuracy: {micro_accuracy:.2f}\")\n",
        "print(f\"Precision: {micro_precision:.2f}\")\n",
        "print(f\"Recall: {micro_recall:.2f}\")\n",
        "print(f\"F1 Score: {micro_f1:.2f}\")\n"
      ],
      "metadata": {
        "colab": {
          "base_uri": "https://localhost:8080/"
        },
        "id": "sMr7T9cBq8M9",
        "outputId": "78207581-2b2f-4e0c-e2ce-148396ee736e"
      },
      "id": "sMr7T9cBq8M9",
      "execution_count": 25,
      "outputs": [
        {
          "output_type": "stream",
          "name": "stdout",
          "text": [
            "accuracy is 0.1284680337756333\n",
            "MCC: 0.0\n",
            "Macro-Averaging Metrics:\n",
            "Accuracy: 0.13\n",
            "Precision: 0.01\n",
            "Recall: 0.10\n",
            "F1 Score: 0.02\n",
            "\n",
            "Micro-Averaging Metrics:\n",
            "Accuracy: 0.13\n",
            "Precision: 0.13\n",
            "Recall: 0.13\n",
            "F1 Score: 0.13\n"
          ]
        },
        {
          "output_type": "stream",
          "name": "stderr",
          "text": [
            "/usr/local/lib/python3.8/dist-packages/sklearn/metrics/_classification.py:1344: UndefinedMetricWarning: Precision and F-score are ill-defined and being set to 0.0 in labels with no predicted samples. Use `zero_division` parameter to control this behavior.\n",
            "  _warn_prf(average, modifier, msg_start, len(result))\n"
          ]
        }
      ]
    },
    {
      "cell_type": "code",
      "execution_count": null,
      "metadata": {
        "id": "H076Yaqg7Tq7"
      },
      "outputs": [],
      "source": [
        "# # NN\n",
        "# import keras\n",
        "# import numpy\n",
        "# from tensorflow.keras.optimizers import SGD\n",
        "\n",
        "\n",
        "# # fix random seed for reproducibility\n",
        "# seed = 7\n",
        "# numpy.random.seed(seed)\n",
        "\n",
        "# # Initialising the ANN\n",
        "# classifier = Sequential()\n",
        "\n",
        "# # Adding the input layer and the first hidden\n",
        "# classifier.add(Dense(10, activation = 'tanh', input_dim = 11))\n",
        "\n",
        "# # Adding the output layer\n",
        "# classifier.add(Dense(1, activation = 'sigmoid'))\n",
        "\n",
        "# # Compiling the ANN\n",
        "# optimizer = SGD(learning_rate = 0.01, momentum = 0.9)\n",
        "# classifier.compile(optimizer = optimizer, loss = 'binary_crossentropy', metrics = ['accuracy'])"
      ],
      "id": "H076Yaqg7Tq7"
    }
  ],
  "metadata": {
    "kernelspec": {
      "display_name": "Python 3",
      "language": "python",
      "name": "python3"
    },
    "language_info": {
      "codemirror_mode": {
        "name": "ipython",
        "version": 3
      },
      "file_extension": ".py",
      "mimetype": "text/x-python",
      "name": "python",
      "nbconvert_exporter": "python",
      "pygments_lexer": "ipython3",
      "version": "3.7.1"
    },
    "colab": {
      "provenance": []
    }
  },
  "nbformat": 4,
  "nbformat_minor": 5
}