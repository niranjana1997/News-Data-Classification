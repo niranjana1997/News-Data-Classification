{
  "cells": [
    {
      "cell_type": "markdown",
      "metadata": {
        "id": "GPeHjPX45yEV"
      },
      "source": [
        "Installing Libraries"
      ]
    },
    {
      "cell_type": "code",
      "execution_count": null,
      "metadata": {
        "colab": {
          "base_uri": "https://localhost:8080/"
        },
        "id": "abF_NsvE455h",
        "outputId": "84479ce3-ecf8-42dd-9d79-c55a542ebacf"
      },
      "outputs": [
        {
          "name": "stdout",
          "output_type": "stream",
          "text": [
            "Looking in indexes: https://pypi.org/simple, https://us-python.pkg.dev/colab-wheels/public/simple/\n",
            "Requirement already satisfied: keras in /usr/local/lib/python3.9/dist-packages (2.12.0)\n",
            "Looking in indexes: https://pypi.org/simple, https://us-python.pkg.dev/colab-wheels/public/simple/\n",
            "Requirement already satisfied: sklearn in /usr/local/lib/python3.9/dist-packages (0.0.post1)\n",
            "Looking in indexes: https://pypi.org/simple, https://us-python.pkg.dev/colab-wheels/public/simple/\n",
            "Requirement already satisfied: numpy in /usr/local/lib/python3.9/dist-packages (1.22.4)\n",
            "Looking in indexes: https://pypi.org/simple, https://us-python.pkg.dev/colab-wheels/public/simple/\n",
            "Requirement already satisfied: nltk in /usr/local/lib/python3.9/dist-packages (3.8.1)\n",
            "Requirement already satisfied: click in /usr/local/lib/python3.9/dist-packages (from nltk) (8.1.3)\n",
            "Requirement already satisfied: regex>=2021.8.3 in /usr/local/lib/python3.9/dist-packages (from nltk) (2022.10.31)\n",
            "Requirement already satisfied: joblib in /usr/local/lib/python3.9/dist-packages (from nltk) (1.1.1)\n",
            "Requirement already satisfied: tqdm in /usr/local/lib/python3.9/dist-packages (from nltk) (4.65.0)\n"
          ]
        }
      ],
      "source": [
        "%pip  install keras\n",
        "%pip install sklearn\n",
        "%pip install numpy\n",
        "%pip install nltk"
      ]
    },
    {
      "cell_type": "markdown",
      "metadata": {
        "id": "saNMqsrb5HUO"
      },
      "source": [
        "Text classification using Deep Neural Networks"
      ]
    },
    {
      "cell_type": "code",
      "execution_count": null,
      "metadata": {
        "id": "hYYnN9mG47Uu"
      },
      "outputs": [],
      "source": [
        "# Import required libraries\n",
        "from sklearn.datasets import fetch_20newsgroups\n",
        "from keras.layers import  Dropout, Dense\n",
        "from keras.models import Sequential\n",
        "from sklearn.feature_extraction.text import TfidfVectorizer\n",
        "import numpy as np\n",
        "from sklearn import metrics\n",
        "from sklearn.model_selection import train_test_split\n",
        "import pandas as pd\n",
        "from sklearn import preprocessing\n",
        "import re\n",
        "import nltk\n",
        "from nltk.corpus import stopwords\n",
        "from nltk.stem import WordNetLemmatizer\n",
        "from sklearn.metrics import accuracy_score, precision_score, recall_score, f1_score, classification_report, matthews_corrcoef, confusion_matrix\n",
        "from sklearn.metrics import precision_recall_fscore_support as score\n",
        "from sklearn.metrics import matthews_corrcoef\n",
        "import pandas as pd\n",
        "import numpy as np\n",
        "import matplotlib.pyplot as plt \n",
        "import seaborn as sns\n",
        "\n",
        "from sklearn.feature_extraction.text import CountVectorizer\n",
        "from sklearn.naive_bayes import MultinomialNB\n",
        "from sklearn.linear_model import LogisticRegression\n",
        "from sklearn.ensemble import RandomForestClassifier\n",
        "from sklearn.neighbors import KNeighborsClassifier\n",
        "from sklearn.pipeline import Pipeline\n",
        "from sklearn.svm import SVC"
      ]
    },
    {
      "cell_type": "markdown",
      "metadata": {
        "id": "f4xKaUKA92_w"
      },
      "source": [
        "Loading Data"
      ]
    },
    {
      "cell_type": "code",
      "execution_count": null,
      "metadata": {
        "id": "tt9n1kGR5K02"
      },
      "outputs": [],
      "source": [
        "# import the fetch_20newsgroups function from the sklearn.datasets module\n",
        "from sklearn.datasets import fetch_20newsgroups\n",
        "\n",
        "# fetch the 20 newsgroups dataset with 'train' and 'test' subsets\n",
        "newsgroups_train = fetch_20newsgroups(subset='train')\n",
        "newsgroups_test = fetch_20newsgroups(subset='test')"
      ]
    },
    {
      "cell_type": "code",
      "execution_count": null,
      "metadata": {
        "id": "zdtmwKgV56Zm"
      },
      "outputs": [],
      "source": [
        "# create a dictionary with 'text' and 'label' keys for train data and convert it to a DataFrame\n",
        "data_train = {'text': newsgroups_train.data, 'label': [newsgroups_train.target_names[i] for i in newsgroups_train.target]}\n",
        "df_train = pd.DataFrame(data_train)\n",
        "\n",
        "# save train data as a CSV file\n",
        "df_train.to_csv('newsgroups_train.csv', index=False)\n",
        "\n",
        "# create a dictionary with 'text' and 'label' keys for test data and convert it to a DataFrame\n",
        "data_test = {'text': newsgroups_test.data, 'label': [newsgroups_test.target_names[i] for i in newsgroups_test.target]}\n",
        "df_test = pd.DataFrame(data_test)\n",
        "\n",
        "# save test data as a CSV file\n",
        "df_test.to_csv('newsgroups_test.csv', index=False)"
      ]
    },
    {
      "cell_type": "markdown",
      "metadata": {
        "id": "k4SV_YUu9_eC"
      },
      "source": [
        "Exploratory Data Analysis"
      ]
    },
    {
      "cell_type": "code",
      "execution_count": null,
      "metadata": {
        "colab": {
          "base_uri": "https://localhost:8080/",
          "height": 206
        },
        "id": "EgEe4h8J7yKH",
        "outputId": "5f6338ee-a697-4768-d297-eb1165838aea"
      },
      "outputs": [
        {
          "data": {
            "text/html": [
              "\n",
              "  <div id=\"df-4742ad35-2f26-4589-b442-985d9aa6d11e\">\n",
              "    <div class=\"colab-df-container\">\n",
              "      <div>\n",
              "<style scoped>\n",
              "    .dataframe tbody tr th:only-of-type {\n",
              "        vertical-align: middle;\n",
              "    }\n",
              "\n",
              "    .dataframe tbody tr th {\n",
              "        vertical-align: top;\n",
              "    }\n",
              "\n",
              "    .dataframe thead th {\n",
              "        text-align: right;\n",
              "    }\n",
              "</style>\n",
              "<table border=\"1\" class=\"dataframe\">\n",
              "  <thead>\n",
              "    <tr style=\"text-align: right;\">\n",
              "      <th></th>\n",
              "      <th>text</th>\n",
              "      <th>label</th>\n",
              "    </tr>\n",
              "  </thead>\n",
              "  <tbody>\n",
              "    <tr>\n",
              "      <th>0</th>\n",
              "      <td>From: lerxst@wam.umd.edu (where's my thing)\\nS...</td>\n",
              "      <td>rec.autos</td>\n",
              "    </tr>\n",
              "    <tr>\n",
              "      <th>1</th>\n",
              "      <td>From: guykuo@carson.u.washington.edu (Guy Kuo)...</td>\n",
              "      <td>comp.sys.mac.hardware</td>\n",
              "    </tr>\n",
              "    <tr>\n",
              "      <th>2</th>\n",
              "      <td>From: twillis@ec.ecn.purdue.edu (Thomas E Will...</td>\n",
              "      <td>comp.sys.mac.hardware</td>\n",
              "    </tr>\n",
              "    <tr>\n",
              "      <th>3</th>\n",
              "      <td>From: jgreen@amber (Joe Green)\\nSubject: Re: W...</td>\n",
              "      <td>comp.graphics</td>\n",
              "    </tr>\n",
              "    <tr>\n",
              "      <th>4</th>\n",
              "      <td>From: jcm@head-cfa.harvard.edu (Jonathan McDow...</td>\n",
              "      <td>sci.space</td>\n",
              "    </tr>\n",
              "  </tbody>\n",
              "</table>\n",
              "</div>\n",
              "      <button class=\"colab-df-convert\" onclick=\"convertToInteractive('df-4742ad35-2f26-4589-b442-985d9aa6d11e')\"\n",
              "              title=\"Convert this dataframe to an interactive table.\"\n",
              "              style=\"display:none;\">\n",
              "        \n",
              "  <svg xmlns=\"http://www.w3.org/2000/svg\" height=\"24px\"viewBox=\"0 0 24 24\"\n",
              "       width=\"24px\">\n",
              "    <path d=\"M0 0h24v24H0V0z\" fill=\"none\"/>\n",
              "    <path d=\"M18.56 5.44l.94 2.06.94-2.06 2.06-.94-2.06-.94-.94-2.06-.94 2.06-2.06.94zm-11 1L8.5 8.5l.94-2.06 2.06-.94-2.06-.94L8.5 2.5l-.94 2.06-2.06.94zm10 10l.94 2.06.94-2.06 2.06-.94-2.06-.94-.94-2.06-.94 2.06-2.06.94z\"/><path d=\"M17.41 7.96l-1.37-1.37c-.4-.4-.92-.59-1.43-.59-.52 0-1.04.2-1.43.59L10.3 9.45l-7.72 7.72c-.78.78-.78 2.05 0 2.83L4 21.41c.39.39.9.59 1.41.59.51 0 1.02-.2 1.41-.59l7.78-7.78 2.81-2.81c.8-.78.8-2.07 0-2.86zM5.41 20L4 18.59l7.72-7.72 1.47 1.35L5.41 20z\"/>\n",
              "  </svg>\n",
              "      </button>\n",
              "      \n",
              "  <style>\n",
              "    .colab-df-container {\n",
              "      display:flex;\n",
              "      flex-wrap:wrap;\n",
              "      gap: 12px;\n",
              "    }\n",
              "\n",
              "    .colab-df-convert {\n",
              "      background-color: #E8F0FE;\n",
              "      border: none;\n",
              "      border-radius: 50%;\n",
              "      cursor: pointer;\n",
              "      display: none;\n",
              "      fill: #1967D2;\n",
              "      height: 32px;\n",
              "      padding: 0 0 0 0;\n",
              "      width: 32px;\n",
              "    }\n",
              "\n",
              "    .colab-df-convert:hover {\n",
              "      background-color: #E2EBFA;\n",
              "      box-shadow: 0px 1px 2px rgba(60, 64, 67, 0.3), 0px 1px 3px 1px rgba(60, 64, 67, 0.15);\n",
              "      fill: #174EA6;\n",
              "    }\n",
              "\n",
              "    [theme=dark] .colab-df-convert {\n",
              "      background-color: #3B4455;\n",
              "      fill: #D2E3FC;\n",
              "    }\n",
              "\n",
              "    [theme=dark] .colab-df-convert:hover {\n",
              "      background-color: #434B5C;\n",
              "      box-shadow: 0px 1px 3px 1px rgba(0, 0, 0, 0.15);\n",
              "      filter: drop-shadow(0px 1px 2px rgba(0, 0, 0, 0.3));\n",
              "      fill: #FFFFFF;\n",
              "    }\n",
              "  </style>\n",
              "\n",
              "      <script>\n",
              "        const buttonEl =\n",
              "          document.querySelector('#df-4742ad35-2f26-4589-b442-985d9aa6d11e button.colab-df-convert');\n",
              "        buttonEl.style.display =\n",
              "          google.colab.kernel.accessAllowed ? 'block' : 'none';\n",
              "\n",
              "        async function convertToInteractive(key) {\n",
              "          const element = document.querySelector('#df-4742ad35-2f26-4589-b442-985d9aa6d11e');\n",
              "          const dataTable =\n",
              "            await google.colab.kernel.invokeFunction('convertToInteractive',\n",
              "                                                     [key], {});\n",
              "          if (!dataTable) return;\n",
              "\n",
              "          const docLinkHtml = 'Like what you see? Visit the ' +\n",
              "            '<a target=\"_blank\" href=https://colab.research.google.com/notebooks/data_table.ipynb>data table notebook</a>'\n",
              "            + ' to learn more about interactive tables.';\n",
              "          element.innerHTML = '';\n",
              "          dataTable['output_type'] = 'display_data';\n",
              "          await google.colab.output.renderOutput(dataTable, element);\n",
              "          const docLink = document.createElement('div');\n",
              "          docLink.innerHTML = docLinkHtml;\n",
              "          element.appendChild(docLink);\n",
              "        }\n",
              "      </script>\n",
              "    </div>\n",
              "  </div>\n",
              "  "
            ],
            "text/plain": [
              "                                                text                  label\n",
              "0  From: lerxst@wam.umd.edu (where's my thing)\\nS...              rec.autos\n",
              "1  From: guykuo@carson.u.washington.edu (Guy Kuo)...  comp.sys.mac.hardware\n",
              "2  From: twillis@ec.ecn.purdue.edu (Thomas E Will...  comp.sys.mac.hardware\n",
              "3  From: jgreen@amber (Joe Green)\\nSubject: Re: W...          comp.graphics\n",
              "4  From: jcm@head-cfa.harvard.edu (Jonathan McDow...              sci.space"
            ]
          },
          "execution_count": 6,
          "metadata": {},
          "output_type": "execute_result"
        }
      ],
      "source": [
        "# Displays the first 5 rows of the dataframe\n",
        "df_train.head() "
      ]
    },
    {
      "cell_type": "code",
      "execution_count": null,
      "metadata": {
        "colab": {
          "base_uri": "https://localhost:8080/"
        },
        "id": "AFIP7bw5-I51",
        "outputId": "f14fe4ce-b98f-4447-ab66-49372c11afae"
      },
      "outputs": [
        {
          "name": "stdout",
          "output_type": "stream",
          "text": [
            "<class 'pandas.core.frame.DataFrame'>\n",
            "RangeIndex: 11314 entries, 0 to 11313\n",
            "Data columns (total 2 columns):\n",
            " #   Column  Non-Null Count  Dtype \n",
            "---  ------  --------------  ----- \n",
            " 0   text    11314 non-null  object\n",
            " 1   label   11314 non-null  object\n",
            "dtypes: object(2)\n",
            "memory usage: 176.9+ KB\n"
          ]
        }
      ],
      "source": [
        "# Provides information about the dataframe\n",
        "df_train.info()"
      ]
    },
    {
      "cell_type": "code",
      "execution_count": null,
      "metadata": {
        "colab": {
          "base_uri": "https://localhost:8080/"
        },
        "id": "_OWrwPrr-NF3",
        "outputId": "2013fd7b-9c2b-43a8-ea65-d42cf2625ee0"
      },
      "outputs": [
        {
          "data": {
            "text/plain": [
              "(11314, 2)"
            ]
          },
          "execution_count": 8,
          "metadata": {},
          "output_type": "execute_result"
        }
      ],
      "source": [
        "# Displays the shape of the DataFrame\n",
        "df_train.shape"
      ]
    },
    {
      "cell_type": "code",
      "execution_count": null,
      "metadata": {
        "colab": {
          "base_uri": "https://localhost:8080/"
        },
        "id": "U60_mG3_-P3k",
        "outputId": "4a0cb02e-8619-43a7-e6d0-4db9524b023e"
      },
      "outputs": [
        {
          "data": {
            "text/plain": [
              "text     0\n",
              "label    0\n",
              "dtype: int64"
            ]
          },
          "execution_count": 9,
          "metadata": {},
          "output_type": "execute_result"
        }
      ],
      "source": [
        "# Displays the sum of null values in each column of the DataFrame\n",
        "df_train.isnull().sum()"
      ]
    },
    {
      "cell_type": "code",
      "execution_count": null,
      "metadata": {
        "colab": {
          "base_uri": "https://localhost:8080/",
          "height": 601
        },
        "id": "TAoEwfChDOn7",
        "outputId": "010b35c1-ee52-4f39-8cc8-4e4424f2b3f5"
      },
      "outputs": [
        {
          "data": {
            "image/png": "[encoded data removed]",
            "text/plain": [
              "<Figure size 1000x600 with 1 Axes>"
            ]
          },
          "metadata": {},
          "output_type": "display_data"
        }
      ],
      "source": [
        "# Plots the distribution of documents in each category of the training dataset.\n",
        "sns.set(style=\"darkgrid\")\n",
        "fig, ax = plt.subplots(figsize=(10, 6)) # set figure size\n",
        "sns.countplot(x='label', data=df_train, ax=ax)\n",
        "ax.set_xticklabels(ax.get_xticklabels(), rotation=45, ha=\"right\") # rotate x-axis labels\n",
        "plt.tight_layout() # adjust plot layout\n",
        "plt.show()"
      ]
    },
    {
      "cell_type": "code",
      "execution_count": null,
      "metadata": {
        "colab": {
          "base_uri": "https://localhost:8080/"
        },
        "id": "bRp0xyZKDccC",
        "outputId": "7f556bb9-230b-494a-a384-154b22765f11"
      },
      "outputs": [
        {
          "name": "stdout",
          "output_type": "stream",
          "text": [
            "rec.sport.hockey            600\n",
            "soc.religion.christian      599\n",
            "rec.motorcycles             598\n",
            "rec.sport.baseball          597\n",
            "sci.crypt                   595\n",
            "rec.autos                   594\n",
            "sci.med                     594\n",
            "comp.windows.x              593\n",
            "sci.space                   593\n",
            "comp.os.ms-windows.misc     591\n",
            "sci.electronics             591\n",
            "comp.sys.ibm.pc.hardware    590\n",
            "misc.forsale                585\n",
            "comp.graphics               584\n",
            "comp.sys.mac.hardware       578\n",
            "talk.politics.mideast       564\n",
            "talk.politics.guns          546\n",
            "alt.atheism                 480\n",
            "talk.politics.misc          465\n",
            "talk.religion.misc          377\n",
            "Name: label, dtype: int64\n"
          ]
        }
      ],
      "source": [
        "# prints the count of each unique value in the 'label' column of the DataFrame\n",
        "print(df_train['label'].value_counts())"
      ]
    },
    {
      "cell_type": "code",
      "execution_count": null,
      "metadata": {
        "colab": {
          "base_uri": "https://localhost:8080/"
        },
        "id": "G-ITbj5M-VDB",
        "outputId": "0415358f-da10-4e24-da78-dc9bc951c264"
      },
      "outputs": [
        {
          "data": {
            "text/plain": [
              "array([ 7,  4,  1, 14, 16, 13,  3,  2,  8, 19,  6,  0, 12,  5, 10,  9, 15,\n",
              "       17, 18, 11])"
            ]
          },
          "execution_count": 12,
          "metadata": {},
          "output_type": "execute_result"
        }
      ],
      "source": [
        "# import LabelEncoder from sklearn.preprocessing\n",
        "from sklearn.preprocessing import LabelEncoder\n",
        "\n",
        "# create an instance of LabelEncoder\n",
        "encoder = LabelEncoder()\n",
        "\n",
        "# create Series objects for labels in train and test data\n",
        "labels_train = df_train['label']\n",
        "labels_test = df_test['label']\n",
        "\n",
        "# fit the encoder to the train labels and transform the train and test labels to numerical values\n",
        "encoded_labels_train = encoder.fit_transform(labels_train)\n",
        "encoded_labels_test = encoder.fit_transform(labels_test)\n",
        "\n",
        "# create new columns in train and test data DataFrames to store the encoded labels\n",
        "df_train['encoded_label'] = encoded_labels_train\n",
        "df_test['encoded_label'] = encoded_labels_test\n",
        "\n",
        "# check the unique values of the 'encoded_label' column in train data DataFrame\n",
        "df_train['encoded_label'].unique()"
      ]
    },
    {
      "cell_type": "markdown",
      "metadata": {
        "id": "RuhqqiMh-23_"
      },
      "source": [
        "Pre-Processing"
      ]
    },
    {
      "cell_type": "code",
      "execution_count": null,
      "metadata": {
        "colab": {
          "base_uri": "https://localhost:8080/"
        },
        "id": "fVWBBooh-koU",
        "outputId": "451bd180-bc30-434c-e10e-ef1440fd911b"
      },
      "outputs": [
        {
          "name": "stderr",
          "output_type": "stream",
          "text": [
            "[nltk_data] Downloading package stopwords to /root/nltk_data...\n",
            "[nltk_data]   Package stopwords is already up-to-date!\n",
            "[nltk_data] Downloading package wordnet to /root/nltk_data...\n",
            "[nltk_data]   Package wordnet is already up-to-date!\n",
            "[nltk_data] Downloading package punkt to /root/nltk_data...\n",
            "[nltk_data]   Package punkt is already up-to-date!\n",
            "[nltk_data] Downloading package omw-1.4 to /root/nltk_data...\n",
            "[nltk_data]   Package omw-1.4 is already up-to-date!\n"
          ]
        }
      ],
      "source": [
        "# import necessary libraries for text preprocessing\n",
        "import nltk\n",
        "from nltk.corpus import stopwords\n",
        "from nltk.stem import WordNetLemmatizer\n",
        "\n",
        "# download required NLTK resources\n",
        "nltk.download('stopwords')\n",
        "nltk.download('wordnet')\n",
        "nltk.download('punkt')\n",
        "nltk.download('omw-1.4')\n",
        "\n",
        "# define a function to filter stop words and perform lemmatization\n",
        "def preprocess_text(text):\n",
        "  # convert text to lowercase\n",
        "  text = text.lower() \n",
        "\n",
        "  # remove URLs\n",
        "  text = re.sub(r'http\\S+|www.\\S+', '', text)\n",
        "\n",
        "  # tokenize text into words\n",
        "  words = nltk.word_tokenize(text)\n",
        "\n",
        "  # remove stop words\n",
        "  stop_words = set(stopwords.words('english'))\n",
        "  words = [word for word in words if word not in stop_words]\n",
        "\n",
        "  # lemmatize words\n",
        "  lemmatizer = WordNetLemmatizer()\n",
        "  words = [lemmatizer.lemmatize(word) for word in words]\n",
        "\n",
        "  # join the preprocessed words back into a string\n",
        "  preprocessed_text = ' '.join(words)\n",
        "  return preprocessed_text"
      ]
    },
    {
      "cell_type": "code",
      "execution_count": null,
      "metadata": {
        "colab": {
          "base_uri": "https://localhost:8080/",
          "height": 206
        },
        "id": "pcWNhu3v_T_u",
        "outputId": "96a38a8d-c9c3-4142-835d-a625c39aa57e"
      },
      "outputs": [
        {
          "data": {
            "text/html": [
              "\n",
              "  <div id=\"df-4024f652-ca46-4c34-baa4-54a2d433bbf2\">\n",
              "    <div class=\"colab-df-container\">\n",
              "      <div>\n",
              "<style scoped>\n",
              "    .dataframe tbody tr th:only-of-type {\n",
              "        vertical-align: middle;\n",
              "    }\n",
              "\n",
              "    .dataframe tbody tr th {\n",
              "        vertical-align: top;\n",
              "    }\n",
              "\n",
              "    .dataframe thead th {\n",
              "        text-align: right;\n",
              "    }\n",
              "</style>\n",
              "<table border=\"1\" class=\"dataframe\">\n",
              "  <thead>\n",
              "    <tr style=\"text-align: right;\">\n",
              "      <th></th>\n",
              "      <th>text</th>\n",
              "      <th>label</th>\n",
              "      <th>encoded_label</th>\n",
              "      <th>format_text</th>\n",
              "    </tr>\n",
              "  </thead>\n",
              "  <tbody>\n",
              "    <tr>\n",
              "      <th>0</th>\n",
              "      <td>From: lerxst@wam.umd.edu (where's my thing)\\nS...</td>\n",
              "      <td>rec.autos</td>\n",
              "      <td>7</td>\n",
              "      <td>: lerxst @ wam.umd.edu ( 's thing ) subject : ...</td>\n",
              "    </tr>\n",
              "    <tr>\n",
              "      <th>1</th>\n",
              "      <td>From: guykuo@carson.u.washington.edu (Guy Kuo)...</td>\n",
              "      <td>comp.sys.mac.hardware</td>\n",
              "      <td>4</td>\n",
              "      <td>: guykuo @ carson.u.washington.edu ( guy kuo )...</td>\n",
              "    </tr>\n",
              "    <tr>\n",
              "      <th>2</th>\n",
              "      <td>From: twillis@ec.ecn.purdue.edu (Thomas E Will...</td>\n",
              "      <td>comp.sys.mac.hardware</td>\n",
              "      <td>4</td>\n",
              "      <td>: twillis @ ec.ecn.purdue.edu ( thomas e willi...</td>\n",
              "    </tr>\n",
              "    <tr>\n",
              "      <th>3</th>\n",
              "      <td>From: jgreen@amber (Joe Green)\\nSubject: Re: W...</td>\n",
              "      <td>comp.graphics</td>\n",
              "      <td>1</td>\n",
              "      <td>: jgreen @ amber ( joe green ) subject : : wei...</td>\n",
              "    </tr>\n",
              "    <tr>\n",
              "      <th>4</th>\n",
              "      <td>From: jcm@head-cfa.harvard.edu (Jonathan McDow...</td>\n",
              "      <td>sci.space</td>\n",
              "      <td>14</td>\n",
              "      <td>: jcm @ head-cfa.harvard.edu ( jonathan mcdowe...</td>\n",
              "    </tr>\n",
              "  </tbody>\n",
              "</table>\n",
              "</div>\n",
              "      <button class=\"colab-df-convert\" onclick=\"convertToInteractive('df-4024f652-ca46-4c34-baa4-54a2d433bbf2')\"\n",
              "              title=\"Convert this dataframe to an interactive table.\"\n",
              "              style=\"display:none;\">\n",
              "        \n",
              "  <svg xmlns=\"http://www.w3.org/2000/svg\" height=\"24px\"viewBox=\"0 0 24 24\"\n",
              "       width=\"24px\">\n",
              "    <path d=\"M0 0h24v24H0V0z\" fill=\"none\"/>\n",
              "    <path d=\"M18.56 5.44l.94 2.06.94-2.06 2.06-.94-2.06-.94-.94-2.06-.94 2.06-2.06.94zm-11 1L8.5 8.5l.94-2.06 2.06-.94-2.06-.94L8.5 2.5l-.94 2.06-2.06.94zm10 10l.94 2.06.94-2.06 2.06-.94-2.06-.94-.94-2.06-.94 2.06-2.06.94z\"/><path d=\"M17.41 7.96l-1.37-1.37c-.4-.4-.92-.59-1.43-.59-.52 0-1.04.2-1.43.59L10.3 9.45l-7.72 7.72c-.78.78-.78 2.05 0 2.83L4 21.41c.39.39.9.59 1.41.59.51 0 1.02-.2 1.41-.59l7.78-7.78 2.81-2.81c.8-.78.8-2.07 0-2.86zM5.41 20L4 18.59l7.72-7.72 1.47 1.35L5.41 20z\"/>\n",
              "  </svg>\n",
              "      </button>\n",
              "      \n",
              "  <style>\n",
              "    .colab-df-container {\n",
              "      display:flex;\n",
              "      flex-wrap:wrap;\n",
              "      gap: 12px;\n",
              "    }\n",
              "\n",
              "    .colab-df-convert {\n",
              "      background-color: #E8F0FE;\n",
              "      border: none;\n",
              "      border-radius: 50%;\n",
              "      cursor: pointer;\n",
              "      display: none;\n",
              "      fill: #1967D2;\n",
              "      height: 32px;\n",
              "      padding: 0 0 0 0;\n",
              "      width: 32px;\n",
              "    }\n",
              "\n",
              "    .colab-df-convert:hover {\n",
              "      background-color: #E2EBFA;\n",
              "      box-shadow: 0px 1px 2px rgba(60, 64, 67, 0.3), 0px 1px 3px 1px rgba(60, 64, 67, 0.15);\n",
              "      fill: #174EA6;\n",
              "    }\n",
              "\n",
              "    [theme=dark] .colab-df-convert {\n",
              "      background-color: #3B4455;\n",
              "      fill: #D2E3FC;\n",
              "    }\n",
              "\n",
              "    [theme=dark] .colab-df-convert:hover {\n",
              "      background-color: #434B5C;\n",
              "      box-shadow: 0px 1px 3px 1px rgba(0, 0, 0, 0.15);\n",
              "      filter: drop-shadow(0px 1px 2px rgba(0, 0, 0, 0.3));\n",
              "      fill: #FFFFFF;\n",
              "    }\n",
              "  </style>\n",
              "\n",
              "      <script>\n",
              "        const buttonEl =\n",
              "          document.querySelector('#df-4024f652-ca46-4c34-baa4-54a2d433bbf2 button.colab-df-convert');\n",
              "        buttonEl.style.display =\n",
              "          google.colab.kernel.accessAllowed ? 'block' : 'none';\n",
              "\n",
              "        async function convertToInteractive(key) {\n",
              "          const element = document.querySelector('#df-4024f652-ca46-4c34-baa4-54a2d433bbf2');\n",
              "          const dataTable =\n",
              "            await google.colab.kernel.invokeFunction('convertToInteractive',\n",
              "                                                     [key], {});\n",
              "          if (!dataTable) return;\n",
              "\n",
              "          const docLinkHtml = 'Like what you see? Visit the ' +\n",
              "            '<a target=\"_blank\" href=https://colab.research.google.com/notebooks/data_table.ipynb>data table notebook</a>'\n",
              "            + ' to learn more about interactive tables.';\n",
              "          element.innerHTML = '';\n",
              "          dataTable['output_type'] = 'display_data';\n",
              "          await google.colab.output.renderOutput(dataTable, element);\n",
              "          const docLink = document.createElement('div');\n",
              "          docLink.innerHTML = docLinkHtml;\n",
              "          element.appendChild(docLink);\n",
              "        }\n",
              "      </script>\n",
              "    </div>\n",
              "  </div>\n",
              "  "
            ],
            "text/plain": [
              "                                                text                  label  \\\n",
              "0  From: lerxst@wam.umd.edu (where's my thing)\\nS...              rec.autos   \n",
              "1  From: guykuo@carson.u.washington.edu (Guy Kuo)...  comp.sys.mac.hardware   \n",
              "2  From: twillis@ec.ecn.purdue.edu (Thomas E Will...  comp.sys.mac.hardware   \n",
              "3  From: jgreen@amber (Joe Green)\\nSubject: Re: W...          comp.graphics   \n",
              "4  From: jcm@head-cfa.harvard.edu (Jonathan McDow...              sci.space   \n",
              "\n",
              "   encoded_label                                        format_text  \n",
              "0              7  : lerxst @ wam.umd.edu ( 's thing ) subject : ...  \n",
              "1              4  : guykuo @ carson.u.washington.edu ( guy kuo )...  \n",
              "2              4  : twillis @ ec.ecn.purdue.edu ( thomas e willi...  \n",
              "3              1  : jgreen @ amber ( joe green ) subject : : wei...  \n",
              "4             14  : jcm @ head-cfa.harvard.edu ( jonathan mcdowe...  "
            ]
          },
          "execution_count": 14,
          "metadata": {},
          "output_type": "execute_result"
        }
      ],
      "source": [
        "# apply preprocess_text function to 'text' column of train data\n",
        "df_train['format_text'] = df_train['text'].apply(preprocess_text)\n",
        "\n",
        "# apply preprocess_text function to 'text' column of test data\n",
        "df_test['format_text'] = df_test['text'].apply(preprocess_text)\n",
        "\n",
        "# display first few rows of the train data\n",
        "df_train.head()"
      ]
    },
    {
      "cell_type": "markdown",
      "metadata": {
        "id": "VWc3kNH9Attd"
      },
      "source": [
        "Machine Learning Models"
      ]
    },
    {
      "cell_type": "code",
      "execution_count": null,
      "metadata": {
        "id": "v_55kkcTJzUG"
      },
      "outputs": [],
      "source": [
        "X_train = df_train['format_text'] # preprocessed train texts\n",
        "X_test = df_test['format_text'] # preprocessed test texts\n",
        "y_train = df_train['encoded_label'] # encoded train labels\n",
        "y_test = df_test['encoded_label'] # encoded test labels"
      ]
    },
    {
      "cell_type": "code",
      "execution_count": null,
      "metadata": {
        "id": "t7KKLdCQYEg4"
      },
      "outputs": [],
      "source": [
        "def evaluate_classification(y_true, y_pred):\n",
        "    \"\"\"\n",
        "    Evaluate classification performance and return various metrics.\n",
        "\n",
        "    Args:\n",
        "        y_true (numpy.ndarray): Ground truth labels.\n",
        "        y_pred (numpy.ndarray): Predicted labels.\n",
        "\n",
        "    \"\"\"\n",
        "\n",
        "    # Calculate the overall accuracy score\n",
        "    accuracy = accuracy_score(y_true, y_pred)\n",
        "\n",
        "    # Calculate the Matthews correlation coefficient (MCC)\n",
        "    mcc = matthews_corrcoef(y_true, y_pred)\n",
        "\n",
        "    # Calculate macro-averaged precision, recall, and F1 score\n",
        "    macro_precision, macro_recall, macro_f1, _ = score(y_true, y_pred, average='macro')\n",
        "\n",
        "    # Calculate micro-averaged precision, recall, and F1 score\n",
        "    micro_precision, micro_recall, micro_f1, _ = score(y_true, y_pred, average='micro')\n",
        "\n",
        "    # Create a dictionary to store the evaluation metrics\n",
        "    metrics = {\n",
        "        'accuracy': accuracy,\n",
        "        'mcc': mcc,\n",
        "        'macro_precision': macro_precision,\n",
        "        'macro_recall': macro_recall,\n",
        "        'macro_f1': macro_f1,\n",
        "        'micro_precision': micro_precision,\n",
        "        'micro_recall': micro_recall,\n",
        "        'micro_f1': micro_f1\n",
        "    }\n",
        "\n",
        "    # Print out the evaluation metrics\n",
        "    print(\"Evaluation Metrics:\")\n",
        "    for metric_name, metric_value in metrics.items():\n",
        "        print(f\"{metric_name.capitalize()}: {metric_value:.4f}\")"
      ]
    },
    {
      "cell_type": "code",
      "execution_count": null,
      "metadata": {
        "id": "N4WV1vVSqsGP"
      },
      "outputs": [],
      "source": [
        "# Initialize the CountVectorizer object\n",
        "vectorizer = CountVectorizer()\n",
        "\n",
        "# Convert the text data into vectors\n",
        "X_train_vectors = vectorizer.fit_transform(X_train)\n",
        "X_test_vectors = vectorizer.transform(X_test)"
      ]
    },
    {
      "cell_type": "markdown",
      "metadata": {
        "id": "DJZGnc6-A2Lj"
      },
      "source": [
        "Multinomial Naive Bayes"
      ]
    },
    {
      "cell_type": "code",
      "execution_count": null,
      "metadata": {
        "colab": {
          "base_uri": "https://localhost:8080/"
        },
        "id": "cxiD0UQI_Z5r",
        "outputId": "8455c2b5-d6d2-4b3a-a7a1-80f659478465"
      },
      "outputs": [
        {
          "name": "stdout",
          "output_type": "stream",
          "text": [
            "Multinomial Naive Bayes\n",
            "              precision    recall  f1-score   support\n",
            "\n",
            "           0       0.80      0.79      0.79       319\n",
            "           1       0.64      0.79      0.71       389\n",
            "           2       0.56      0.01      0.02       394\n",
            "           3       0.57      0.80      0.67       392\n",
            "           4       0.83      0.80      0.82       385\n",
            "           5       0.67      0.84      0.75       395\n",
            "           6       0.91      0.72      0.80       390\n",
            "           7       0.87      0.90      0.89       396\n",
            "           8       0.96      0.95      0.95       398\n",
            "           9       0.97      0.91      0.94       397\n",
            "          10       0.92      0.97      0.94       399\n",
            "          11       0.76      0.95      0.85       396\n",
            "          12       0.79      0.70      0.74       393\n",
            "          13       0.87      0.84      0.86       396\n",
            "          14       0.83      0.92      0.87       394\n",
            "          15       0.80      0.95      0.87       398\n",
            "          16       0.71      0.93      0.80       364\n",
            "          17       0.94      0.94      0.94       376\n",
            "          18       0.69      0.63      0.66       310\n",
            "          19       0.89      0.43      0.58       251\n",
            "\n",
            "    accuracy                           0.80      7532\n",
            "   macro avg       0.80      0.79      0.77      7532\n",
            "weighted avg       0.80      0.80      0.78      7532\n",
            "\n"
          ]
        }
      ],
      "source": [
        "# Initialize the Multinomial Naive Bayes classifier object\n",
        "classifier = MultinomialNB()\n",
        "\n",
        "# Train the classifier on the vectorized training data\n",
        "classifier.fit(X_train_vectors, y_train)\n",
        "\n",
        "# Use the trained classifier to make predictions on the test data\n",
        "y_pred = classifier.predict(X_test_vectors)\n",
        "\n",
        "# Print the classification report\n",
        "print(\"Multinomial Naive Bayes\")\n",
        "print(classification_report(y_test, y_pred))"
      ]
    },
    {
      "cell_type": "code",
      "execution_count": null,
      "metadata": {
        "colab": {
          "base_uri": "https://localhost:8080/"
        },
        "id": "7YN9-y5uAs_U",
        "outputId": "9d47a5b1-53fa-4822-c392-3dd255cb4aa4"
      },
      "outputs": [
        {
          "name": "stdout",
          "output_type": "stream",
          "text": [
            "Multinomial Naive Bayes\n",
            "accuracy is 0.7979288369622942\n",
            "MCC: 0.7889440767685992\n",
            "Macro-Averaging Metrics:\n",
            "Accuracy: 0.80\n",
            "Precision: 0.80\n",
            "Recall: 0.79\n",
            "F1 Score: 0.77\n",
            "\n",
            "Micro-Averaging Metrics:\n",
            "Accuracy: 0.80\n",
            "Precision: 0.80\n",
            "Recall: 0.80\n",
            "F1 Score: 0.80\n"
          ]
        }
      ],
      "source": [
        "print(\"Multinomial Naive Bayes\")\n",
        "evaluate_classification(y_test, y_pred)"
      ]
    },
    {
      "cell_type": "markdown",
      "metadata": {
        "id": "lqtrQG1xC-tf"
      },
      "source": [
        "Logistic Regression"
      ]
    },
    {
      "cell_type": "code",
      "execution_count": null,
      "metadata": {
        "colab": {
          "base_uri": "https://localhost:8080/"
        },
        "id": "O-7e6Gw-DBes",
        "outputId": "fbb85d6b-b4ce-466f-a09c-737990cd5173"
      },
      "outputs": [
        {
          "name": "stdout",
          "output_type": "stream",
          "text": [
            "Logistic Regression\n",
            "              precision    recall  f1-score   support\n",
            "\n",
            "           0       0.73      0.73      0.73       319\n",
            "           1       0.68      0.76      0.72       389\n",
            "           2       0.74      0.67      0.70       394\n",
            "           3       0.66      0.70      0.68       392\n",
            "           4       0.77      0.83      0.80       385\n",
            "           5       0.83      0.71      0.77       395\n",
            "           6       0.78      0.88      0.83       390\n",
            "           7       0.87      0.85      0.86       396\n",
            "           8       0.92      0.92      0.92       398\n",
            "           9       0.86      0.91      0.89       397\n",
            "          10       0.93      0.93      0.93       399\n",
            "          11       0.94      0.88      0.91       396\n",
            "          12       0.68      0.74      0.71       393\n",
            "          13       0.88      0.78      0.83       396\n",
            "          14       0.92      0.90      0.91       394\n",
            "          15       0.84      0.92      0.88       398\n",
            "          16       0.71      0.85      0.78       364\n",
            "          17       0.95      0.81      0.88       376\n",
            "          18       0.74      0.55      0.63       310\n",
            "          19       0.64      0.61      0.62       251\n",
            "\n",
            "    accuracy                           0.80      7532\n",
            "   macro avg       0.80      0.80      0.80      7532\n",
            "weighted avg       0.81      0.80      0.80      7532\n",
            "\n"
          ]
        },
        {
          "name": "stderr",
          "output_type": "stream",
          "text": [
            "/usr/local/lib/python3.9/dist-packages/sklearn/linear_model/_logistic.py:458: ConvergenceWarning: lbfgs failed to converge (status=1):\n",
            "STOP: TOTAL NO. of ITERATIONS REACHED LIMIT.\n",
            "\n",
            "Increase the number of iterations (max_iter) or scale the data as shown in:\n",
            "    https://scikit-learn.org/stable/modules/preprocessing.html\n",
            "Please also refer to the documentation for alternative solver options:\n",
            "    https://scikit-learn.org/stable/modules/linear_model.html#logistic-regression\n",
            "  n_iter_i = _check_optimize_result(\n"
          ]
        }
      ],
      "source": [
        "# Initialize the Logistic Regression classifier and fit on the training data\n",
        "classifier = LogisticRegression()\n",
        "classifier.fit(X_train_vectors, y_train)\n",
        "\n",
        "# Predict the labels for the test data\n",
        "y_pred = classifier.predict(X_test_vectors)\n",
        "\n",
        "# Print the classification report containing various metrics like precision, recall, f1-score, and support for each class as well as their average.\n",
        "print(\"Logistic Regression\")\n",
        "print(classification_report(y_test, y_pred))"
      ]
    },
    {
      "cell_type": "code",
      "execution_count": null,
      "metadata": {
        "colab": {
          "base_uri": "https://localhost:8080/"
        },
        "id": "Ff2BOtXED7sd",
        "outputId": "64fd350a-e5f9-4a20-b970-1e174fc6c981"
      },
      "outputs": [
        {
          "name": "stdout",
          "output_type": "stream",
          "text": [
            "Logistic Regression\n",
            "accuracy is 0.8044344131704726\n",
            "MCC: 0.7942385311369694\n",
            "Macro-Averaging Metrics:\n",
            "Accuracy: 0.80\n",
            "Precision: 0.80\n",
            "Recall: 0.80\n",
            "F1 Score: 0.80\n",
            "\n",
            "Micro-Averaging Metrics:\n",
            "Accuracy: 0.80\n",
            "Precision: 0.80\n",
            "Recall: 0.80\n",
            "F1 Score: 0.80\n"
          ]
        }
      ],
      "source": [
        "print(\"Logistic Regression\")\n",
        "evaluate_classification(y_test, y_pred)"
      ]
    },
    {
      "cell_type": "markdown",
      "metadata": {
        "id": "Fkk1GO9jEHG1"
      },
      "source": [
        "Random Forest"
      ]
    },
    {
      "cell_type": "code",
      "execution_count": null,
      "metadata": {
        "colab": {
          "base_uri": "https://localhost:8080/"
        },
        "id": "agZnmOuBEE36",
        "outputId": "46e3ec9c-9a9b-4add-c1b8-a78e6465e791"
      },
      "outputs": [
        {
          "name": "stdout",
          "output_type": "stream",
          "text": [
            "Random Forest\n",
            "              precision    recall  f1-score   support\n",
            "\n",
            "           0       0.75      0.65      0.70       319\n",
            "           1       0.61      0.72      0.66       389\n",
            "           2       0.65      0.77      0.70       394\n",
            "           3       0.67      0.71      0.69       392\n",
            "           4       0.79      0.79      0.79       385\n",
            "           5       0.80      0.69      0.74       395\n",
            "           6       0.75      0.90      0.82       390\n",
            "           7       0.85      0.84      0.85       396\n",
            "           8       0.91      0.91      0.91       398\n",
            "           9       0.85      0.92      0.88       397\n",
            "          10       0.90      0.92      0.91       399\n",
            "          11       0.89      0.91      0.90       396\n",
            "          12       0.77      0.57      0.65       393\n",
            "          13       0.86      0.72      0.79       396\n",
            "          14       0.86      0.89      0.87       394\n",
            "          15       0.71      0.96      0.81       398\n",
            "          16       0.68      0.89      0.77       364\n",
            "          17       0.95      0.82      0.88       376\n",
            "          18       0.82      0.49      0.61       310\n",
            "          19       0.77      0.37      0.50       251\n",
            "\n",
            "    accuracy                           0.78      7532\n",
            "   macro avg       0.79      0.77      0.77      7532\n",
            "weighted avg       0.79      0.78      0.78      7532\n",
            "\n"
          ]
        }
      ],
      "source": [
        "# Initialize Random Forest Classifier with 100 trees and set random state\n",
        "classifier = RandomForestClassifier(n_estimators=100, random_state=42)\n",
        "\n",
        "# Fit the classifier on training data\n",
        "classifier.fit(X_train_vectors, y_train)\n",
        "\n",
        "# Predict labels for test data using the trained classifier\n",
        "y_pred = classifier.predict(X_test_vectors)\n",
        "\n",
        "# Print classification report for Random Forest Classifier\n",
        "print(\"Random Forest\")\n",
        "print(classification_report(y_test, y_pred))"
      ]
    },
    {
      "cell_type": "code",
      "execution_count": null,
      "metadata": {
        "colab": {
          "base_uri": "https://localhost:8080/"
        },
        "id": "8z-IhDAHEZg3",
        "outputId": "dfe2473c-b89c-4d32-91b6-551e0f6ed345"
      },
      "outputs": [
        {
          "name": "stdout",
          "output_type": "stream",
          "text": [
            "Random Forest\n",
            "accuracy is 0.7841210833775889\n",
            "MCC: 0.7732696470898931\n",
            "Macro-Averaging Metrics:\n",
            "Accuracy: 0.78\n",
            "Precision: 0.79\n",
            "Recall: 0.77\n",
            "F1 Score: 0.77\n",
            "\n",
            "Micro-Averaging Metrics:\n",
            "Accuracy: 0.78\n",
            "Precision: 0.78\n",
            "Recall: 0.78\n",
            "F1 Score: 0.78\n",
            "Weighted Metrics:\n",
            "Precision: 0.79\n",
            "Recall: 0.78\n",
            "F1 Score: 0.78\n"
          ]
        }
      ],
      "source": [
        "print(\"Random Forest\")\n",
        "evaluate_classification(y_test, y_pred)"
      ]
    },
    {
      "cell_type": "markdown",
      "metadata": {
        "id": "gsMY06JUj6wm"
      },
      "source": [
        "K-Nearest Neighbor"
      ]
    },
    {
      "cell_type": "code",
      "execution_count": null,
      "metadata": {
        "colab": {
          "base_uri": "https://localhost:8080/"
        },
        "id": "WL_m2IcCkGQv",
        "outputId": "bebdac18-4195-41e3-b892-0db70e73608b"
      },
      "outputs": [
        {
          "name": "stdout",
          "output_type": "stream",
          "text": [
            "K-Nearest Neighbor\n",
            "              precision    recall  f1-score   support\n",
            "\n",
            "           0       0.59      0.75      0.66       319\n",
            "           1       0.46      0.64      0.54       389\n",
            "           2       0.52      0.55      0.53       394\n",
            "           3       0.49      0.60      0.54       392\n",
            "           4       0.61      0.57      0.59       385\n",
            "           5       0.66      0.57      0.61       395\n",
            "           6       0.51      0.47      0.49       390\n",
            "           7       0.74      0.72      0.73       396\n",
            "           8       0.81      0.86      0.84       398\n",
            "           9       0.75      0.75      0.75       397\n",
            "          10       0.82      0.87      0.85       399\n",
            "          11       0.78      0.84      0.81       396\n",
            "          12       0.68      0.53      0.60       393\n",
            "          13       0.80      0.60      0.69       396\n",
            "          14       0.78      0.82      0.80       394\n",
            "          15       0.82      0.77      0.79       398\n",
            "          16       0.71      0.72      0.72       364\n",
            "          17       0.80      0.74      0.77       376\n",
            "          18       0.75      0.61      0.68       310\n",
            "          19       0.63      0.54      0.58       251\n",
            "\n",
            "    accuracy                           0.68      7532\n",
            "   macro avg       0.69      0.68      0.68      7532\n",
            "weighted avg       0.69      0.68      0.68      7532\n",
            "\n"
          ]
        }
      ],
      "source": [
        "# Create a pipeline that preprocesses the text data by applying CountVectorizer and TfidfTransformer,\n",
        "# and trains a K-Nearest Neighbor classifier on the preprocessed data\n",
        "text_clf = Pipeline([('vect', CountVectorizer()),\n",
        "                     ('tfidf', TfidfTransformer()),\n",
        "                     ('clf', KNeighborsClassifier()),\n",
        "                     ])\n",
        "\n",
        "# Fit the pipeline on the training data\n",
        "text_clf.fit(X_train, y_train)\n",
        "\n",
        "# Use the trained classifier to predict the labels for the test data\n",
        "y_pred = text_clf.predict(X_test)\n",
        "\n",
        "# Print the classification report, which includes precision, recall, F1-score, and support for each class\n",
        "print(\"K-Nearest Neighbor\")\n",
        "print(metrics.classification_report(y_test, y_pred))"
      ]
    },
    {
      "cell_type": "code",
      "execution_count": null,
      "metadata": {
        "colab": {
          "base_uri": "https://localhost:8080/"
        },
        "id": "AxDuTnSvkOvP",
        "outputId": "5abe6e83-dc45-40ea-b1b0-e122b2797287"
      },
      "outputs": [
        {
          "name": "stdout",
          "output_type": "stream",
          "text": [
            "K-Nearest Neighbor\n",
            "accuracy is 0.6800318640467339\n",
            "MCC: 0.6634080732997676\n",
            "Macro-Averaging Metrics:\n",
            "Accuracy: 0.68\n",
            "Precision: 0.69\n",
            "Recall: 0.68\n",
            "F1 Score: 0.68\n",
            "\n",
            "Micro-Averaging Metrics:\n",
            "Accuracy: 0.68\n",
            "Precision: 0.68\n",
            "Recall: 0.68\n",
            "F1 Score: 0.68\n"
          ]
        }
      ],
      "source": [
        "print(\"K-Nearest Neighbor\")\n",
        "evaluate_classification(y_test, y_pred)"
      ]
    },
    {
      "cell_type": "markdown",
      "metadata": {
        "id": "UwNPmDLTBD1H"
      },
      "source": [
        "Support Vector Machine"
      ]
    },
    {
      "cell_type": "code",
      "execution_count": null,
      "metadata": {
        "colab": {
          "base_uri": "https://localhost:8080/"
        },
        "id": "FH89JUmGBBk6",
        "outputId": "65f1064a-3681-45be-a1c2-6a12dc366788"
      },
      "outputs": [
        {
          "name": "stdout",
          "output_type": "stream",
          "text": [
            "Support Vector Machine\n",
            "              precision    recall  f1-score   support\n",
            "\n",
            "           0       0.54      0.62      0.58       319\n",
            "           1       0.52      0.64      0.57       389\n",
            "           2       0.61      0.59      0.60       394\n",
            "           3       0.56      0.58      0.57       392\n",
            "           4       0.62      0.63      0.63       385\n",
            "           5       0.67      0.60      0.63       395\n",
            "           6       0.75      0.81      0.78       390\n",
            "           7       0.68      0.72      0.70       396\n",
            "           8       0.79      0.79      0.79       398\n",
            "           9       0.72      0.77      0.74       397\n",
            "          10       0.83      0.80      0.81       399\n",
            "          11       0.88      0.76      0.82       396\n",
            "          12       0.51      0.57      0.54       393\n",
            "          13       0.67      0.60      0.63       396\n",
            "          14       0.79      0.78      0.79       394\n",
            "          15       0.79      0.82      0.80       398\n",
            "          16       0.65      0.72      0.68       364\n",
            "          17       0.91      0.68      0.78       376\n",
            "          18       0.54      0.48      0.51       310\n",
            "          19       0.52      0.41      0.45       251\n",
            "\n",
            "    accuracy                           0.68      7532\n",
            "   macro avg       0.68      0.67      0.67      7532\n",
            "weighted avg       0.68      0.68      0.68      7532\n",
            "\n"
          ]
        }
      ],
      "source": [
        "# initialize a TfidfVectorizer object to convert text to vectors\n",
        "vectorizer = TfidfVectorizer(max_features=1000)\n",
        "\n",
        "# fit and transform the training data to vectors using the vectorizer\n",
        "X_train_vectors = vectorizer.fit_transform(X_train)\n",
        "\n",
        "# transform the test data to vectors using the trained vectorizer\n",
        "X_test_vectors = vectorizer.transform(X_test)\n",
        "\n",
        "# initialize a Support Vector Machine classifier with linear kernel\n",
        "classifier = SVC(kernel='linear')\n",
        "\n",
        "# fit the training data to the classifier\n",
        "classifier.fit(X_train_vectors, y_train)\n",
        "\n",
        "# predict the labels for the test data\n",
        "y_pred = classifier.predict(X_test_vectors)\n",
        "\n",
        "# print the classification report\n",
        "print(\"Support Vector Machine\")\n",
        "print(classification_report(y_test, y_pred))"
      ]
    },
    {
      "cell_type": "code",
      "execution_count": null,
      "metadata": {
        "colab": {
          "base_uri": "https://localhost:8080/"
        },
        "id": "BUJngyPgBHqu",
        "outputId": "c582e8ac-6c09-4333-d0df-a58610be03a1"
      },
      "outputs": [
        {
          "name": "stdout",
          "output_type": "stream",
          "text": [
            "Support Vector Machine\n",
            "accuracy is 0.6765799256505576\n",
            "MCC: 0.6595622543222024\n",
            "Macro-Averaging Metrics:\n",
            "Accuracy: 0.68\n",
            "Precision: 0.68\n",
            "Recall: 0.67\n",
            "F1 Score: 0.67\n",
            "\n",
            "Micro-Averaging Metrics:\n",
            "Accuracy: 0.68\n",
            "Precision: 0.68\n",
            "Recall: 0.68\n",
            "F1 Score: 0.68\n"
          ]
        }
      ],
      "source": [
        "print(\"Support Vector Machine\")\n",
        "evaluate_classification(y_test, y_pred)"
      ]
    },
    {
      "cell_type": "markdown",
      "metadata": {
        "id": "wnW9V_yUO2YZ"
      },
      "source": [
        "Text classification using Deep Neural Networks"
      ]
    },
    {
      "cell_type": "markdown",
      "metadata": {
        "id": "hpPP2VQVO2YZ"
      },
      "source": [
        "Pre-processing"
      ]
    },
    {
      "cell_type": "code",
      "execution_count": null,
      "metadata": {
        "id": "g-uixCiXO2YZ"
      },
      "outputs": [],
      "source": [
        "newsgroups_train = fetch_20newsgroups(subset='train')\n",
        "newsgroups_test = fetch_20newsgroups(subset='test')\n",
        "X_train = newsgroups_train.data\n",
        "X_test = newsgroups_test.data\n",
        "y_train = newsgroups_train.target\n",
        "y_test = newsgroups_test.target"
      ]
    },
    {
      "cell_type": "code",
      "execution_count": null,
      "metadata": {
        "id": "GmWrHnmQO2YZ"
      },
      "outputs": [],
      "source": [
        "\"\"\"\n",
        "    Calculates the Term Frequency-Inverse Document Frequency (TF-IDF) of the given training and test data sets.\n",
        "    @param X_train A list of documents in the training set.\n",
        "    @param X_test A list of documents in the test set.\n",
        "    @param MAX_NB_WORDS The maximum number of words to be included in the TF-IDF model. Default is 75000.\n",
        "    @return A tuple containing the TF-IDF transformed training and test data sets.\n",
        "\"\"\"\n",
        "\n",
        "def TFIDF(X_train, X_test,MAX_NB_WORDS=75000):\n",
        "    vectorizer_x = TfidfVectorizer(max_features=MAX_NB_WORDS)\n",
        "    X_train = vectorizer_x.fit_transform(X_train).toarray()\n",
        "    X_test = vectorizer_x.transform(X_test).toarray()\n",
        "    print(\"tf-idf with\",str(np.array(X_train).shape[1]),\"features\")\n",
        "    return (X_train,X_test)\n",
        "\n",
        "\"\"\"\n",
        "Builds a deep neural network model for text classification using the specified parameters.\n",
        "@param shape The shape of the input feature space.\n",
        "@param nClasses The number of classes in the classification problem.\n",
        "@param dropout The dropout rate to use during training. Default is 0.5.\n",
        "@return A Keras model for text classification using deep neural networks.\n",
        "\"\"\"\n",
        "\n",
        "def Build_Model_DNN_Text(shape, nClasses, dropout=0.5):\n",
        "\n",
        "    model = Sequential()\n",
        "    node = 512 # number of nodes\n",
        "    nLayers = 4 # number of  hidden layer\n",
        "\n",
        "    model.add(Dense(node,input_dim=shape,activation='relu'))\n",
        "    model.add(Dropout(dropout))\n",
        "    for i in range(0,nLayers):\n",
        "        model.add(Dense(node,input_dim=node,activation='relu'))\n",
        "        model.add(Dropout(dropout))\n",
        "    model.add(Dense(nClasses, activation='softmax'))\n",
        "\n",
        "    model.compile(loss='sparse_categorical_crossentropy',\n",
        "                  optimizer='adam',\n",
        "                  metrics=['accuracy'])\n",
        "\n",
        "    return model"
      ]
    },
    {
      "cell_type": "code",
      "execution_count": null,
      "metadata": {
        "id": "5ezd_x0qO2Ya",
        "outputId": "08b479e2-2321-44a2-d320-4cffeff7c25d"
      },
      "outputs": [
        {
          "name": "stdout",
          "output_type": "stream",
          "text": [
            "tf-idf with 75000 features\n",
            "Epoch 1/10\n",
            "89/89 - 101s - loss: 2.8258 - accuracy: 0.0882 - val_loss: 2.1922 - val_accuracy: 0.2509 - 101s/epoch - 1s/step\n",
            "Epoch 2/10\n",
            "89/89 - 63s - loss: 1.5118 - accuracy: 0.4599 - val_loss: 1.0027 - val_accuracy: 0.6681 - 63s/epoch - 707ms/step\n",
            "Epoch 3/10\n",
            "89/89 - 57s - loss: 0.6733 - accuracy: 0.7483 - val_loss: 0.8119 - val_accuracy: 0.7582 - 57s/epoch - 636ms/step\n",
            "Epoch 4/10\n",
            "89/89 - 65s - loss: 0.3580 - accuracy: 0.8722 - val_loss: 0.8251 - val_accuracy: 0.7828 - 65s/epoch - 726ms/step\n",
            "Epoch 5/10\n",
            "89/89 - 61s - loss: 0.2229 - accuracy: 0.9233 - val_loss: 0.8987 - val_accuracy: 0.7829 - 61s/epoch - 686ms/step\n",
            "Epoch 6/10\n",
            "89/89 - 57s - loss: 0.1522 - accuracy: 0.9524 - val_loss: 0.8731 - val_accuracy: 0.8046 - 57s/epoch - 639ms/step\n",
            "Epoch 7/10\n",
            "89/89 - 56s - loss: 0.1054 - accuracy: 0.9676 - val_loss: 0.9016 - val_accuracy: 0.8047 - 56s/epoch - 627ms/step\n",
            "Epoch 8/10\n",
            "89/89 - 57s - loss: 0.0823 - accuracy: 0.9755 - val_loss: 0.9459 - val_accuracy: 0.8084 - 57s/epoch - 640ms/step\n",
            "Epoch 9/10\n",
            "89/89 - 58s - loss: 0.0633 - accuracy: 0.9805 - val_loss: 1.0318 - val_accuracy: 0.8028 - 58s/epoch - 656ms/step\n",
            "Epoch 10/10\n",
            "89/89 - 58s - loss: 0.0684 - accuracy: 0.9838 - val_loss: 0.9960 - val_accuracy: 0.8016 - 58s/epoch - 647ms/step\n",
            "236/236 [==============================] - 12s 48ms/step\n",
            "              precision    recall  f1-score   support\n",
            "\n",
            "           0       0.81      0.75      0.78       319\n",
            "           1       0.64      0.73      0.68       389\n",
            "           2       0.69      0.69      0.69       394\n",
            "           3       0.62      0.75      0.68       392\n",
            "           4       0.70      0.83      0.76       385\n",
            "           5       0.82      0.71      0.76       395\n",
            "           6       0.76      0.87      0.81       390\n",
            "           7       0.88      0.86      0.87       396\n",
            "           8       0.89      0.95      0.92       398\n",
            "           9       0.86      0.95      0.90       397\n",
            "          10       0.97      0.95      0.96       399\n",
            "          11       0.97      0.85      0.91       396\n",
            "          12       0.86      0.62      0.72       393\n",
            "          13       0.87      0.74      0.80       396\n",
            "          14       0.88      0.86      0.87       394\n",
            "          15       0.98      0.79      0.87       398\n",
            "          16       0.88      0.75      0.81       364\n",
            "          17       0.99      0.82      0.90       376\n",
            "          18       0.63      0.79      0.70       310\n",
            "          19       0.51      0.73      0.60       251\n",
            "\n",
            "    accuracy                           0.80      7532\n",
            "   macro avg       0.81      0.80      0.80      7532\n",
            "weighted avg       0.82      0.80      0.80      7532\n",
            "\n"
          ]
        }
      ],
      "source": [
        "# Use the TFIDF function to get the TF-IDF features of the training and testing datasets\n",
        "X_train_tfidf, X_test_tfidf = TFIDF(X_train, X_test)\n",
        "\n",
        "# Build a deep neural network model using the TF-IDF features and set the number of output classes to 20\n",
        "model_DNN = Build_Model_DNN_Text(X_train_tfidf.shape[1], 20)\n",
        "\n",
        "# Train the model on the training dataset, validating on the testing dataset, for 10 epochs, using a batch size of 128, and print the training progress\n",
        "model_DNN.fit(X_train_tfidf, y_train,\n",
        "              validation_data=(X_test_tfidf, y_test),\n",
        "              epochs=10,\n",
        "              batch_size=128,\n",
        "              verbose=2)\n",
        "\n",
        "# Get predictions from the trained model on the testing dataset\n",
        "predicted = model_DNN.predict(X_test_tfidf)\n",
        "\n",
        "# Print the classification report of the testing dataset, showing the precision, recall, and F1-score for each class\n",
        "print(metrics.classification_report(y_test, np.argmax(predicted, axis=1)))\n"
      ]
    },
    {
      "cell_type": "code",
      "execution_count": null,
      "metadata": {
        "id": "R7brSIMoO2Ya",
        "outputId": "d3b34b78-a089-4e18-9d96-8484e8a27534"
      },
      "outputs": [
        {
          "name": "stdout",
          "output_type": "stream",
          "text": [
            "Performance of Deep Neural Network for text classification\n",
            "accuracy is 0.8016463090812533\n",
            "MCC: 0.7916891634274648\n",
            "Macro-Averaging Metrics:\n",
            "Accuracy: 0.80\n",
            "Precision: 0.81\n",
            "Recall: 0.80\n",
            "F1 Score: 0.80\n",
            "\n",
            "Micro-Averaging Metrics:\n",
            "Accuracy: 0.80\n",
            "Precision: 0.80\n",
            "Recall: 0.80\n",
            "F1 Score: 0.80\n"
          ]
        }
      ],
      "source": [
        "print(\"Performance of Deep Neural Network for text classification\")\n",
        "# Accuracy score\n",
        "print('accuracy is',accuracy_score(y_test,np.argmax(predicted, axis=1)))\n",
        "mcc = matthews_corrcoef(y_test, np.argmax(predicted, axis=1))\n",
        "print(\"MCC:\", mcc)\n",
        "# Macro-Averaging\n",
        "macro_accuracy = accuracy_score(y_test, np.argmax(predicted, axis=1))\n",
        "macro_precision, macro_recall, macro_f1, _ = score(y_test, np.argmax(predicted, axis=1), average='macro')\n",
        "print(\"Macro-Averaging Metrics:\")\n",
        "print(f\"Accuracy: {macro_accuracy:.2f}\")\n",
        "print(f\"Precision: {macro_precision:.2f}\")\n",
        "print(f\"Recall: {macro_recall:.2f}\")\n",
        "print(f\"F1 Score: {macro_f1:.2f}\")\n",
        "# Micro-Averaging\n",
        "micro_accuracy = accuracy_score(y_test, np.argmax(predicted, axis=1))\n",
        "micro_precision, micro_recall, micro_f1, _ = score(y_test, np.argmax(predicted, axis=1), average='micro')\n",
        "print(\"\\nMicro-Averaging Metrics:\")\n",
        "print(f\"Accuracy: {micro_accuracy:.2f}\")\n",
        "print(f\"Precision: {micro_precision:.2f}\")\n",
        "print(f\"Recall: {micro_recall:.2f}\")\n",
        "print(f\"F1 Score: {micro_f1:.2f}\")"
      ]
    },
    {
      "cell_type": "code",
      "execution_count": null,
      "metadata": {
        "id": "iEhlmpDpO2Ya",
        "outputId": "eea3e279-21df-4be1-e744-e62180adbae7"
      },
      "outputs": [
        {
          "name": "stdout",
          "output_type": "stream",
          "text": [
            "              precision    recall  f1-score   support\n",
            "\n",
            "           0       0.81      0.75      0.78       319\n",
            "           1       0.64      0.73      0.68       389\n",
            "           2       0.69      0.69      0.69       394\n",
            "           3       0.62      0.75      0.68       392\n",
            "           4       0.70      0.83      0.76       385\n",
            "           5       0.82      0.71      0.76       395\n",
            "           6       0.76      0.87      0.81       390\n",
            "           7       0.88      0.86      0.87       396\n",
            "           8       0.89      0.95      0.92       398\n",
            "           9       0.86      0.95      0.90       397\n",
            "          10       0.97      0.95      0.96       399\n",
            "          11       0.97      0.85      0.91       396\n",
            "          12       0.86      0.62      0.72       393\n",
            "          13       0.87      0.74      0.80       396\n",
            "          14       0.88      0.86      0.87       394\n",
            "          15       0.98      0.79      0.87       398\n",
            "          16       0.88      0.75      0.81       364\n",
            "          17       0.99      0.82      0.90       376\n",
            "          18       0.63      0.79      0.70       310\n",
            "          19       0.51      0.73      0.60       251\n",
            "\n",
            "    accuracy                           0.80      7532\n",
            "   macro avg       0.81      0.80      0.80      7532\n",
            "weighted avg       0.82      0.80      0.80      7532\n",
            "\n"
          ]
        }
      ],
      "source": [
        "print(metrics.classification_report(y_test, np.argmax(predicted, axis=1)))"
      ]
    },
    {
      "cell_type": "markdown",
      "metadata": {
        "id": "AV2IyWrFO2Ya"
      },
      "source": [
        "Text classification using RNN"
      ]
    },
    {
      "cell_type": "code",
      "execution_count": null,
      "metadata": {
        "id": "-w6zL71eO2Ya"
      },
      "outputs": [],
      "source": [
        "from keras.layers import Dropout, Dense, GRU, Embedding\n",
        "from keras.models import Sequential\n",
        "from sklearn.feature_extraction.text import TfidfVectorizer\n",
        "import numpy as np\n",
        "from sklearn import metrics\n",
        "from keras.preprocessing.text import Tokenizer\n",
        "from tensorflow.keras.preprocessing.sequence import pad_sequences\n",
        "from sklearn.datasets import fetch_20newsgroups"
      ]
    },
    {
      "cell_type": "code",
      "execution_count": null,
      "metadata": {
        "id": "3SrkBCa6O2Ya"
      },
      "outputs": [],
      "source": [
        "\tdef loadData_Tokenizer(X_train, X_test,MAX_NB_WORDS=75000,MAX_SEQUENCE_LENGTH=500):\n",
        "    # Concatenate train and test data and convert to array\n",
        "    np.random.seed(7)\n",
        "    text = np.concatenate((X_train, X_test), axis=0)\n",
        "    text = np.array(text)\n",
        "    \n",
        "    # Create tokenizer with maximum number of words\n",
        "    tokenizer = Tokenizer(num_words=MAX_NB_WORDS)\n",
        "    tokenizer.fit_on_texts(text)\n",
        "    \n",
        "    # Convert text to sequences and get word index\n",
        "    sequences = tokenizer.texts_to_sequences(text)\n",
        "    word_index = tokenizer.word_index\n",
        "    \n",
        "    # Pad sequences to maximum sequence length\n",
        "    text = pad_sequences(sequences, maxlen=MAX_SEQUENCE_LENGTH)\n",
        "    print('Found %s unique tokens.' % len(word_index))\n",
        "    \n",
        "    # Shuffle indices and split into train and test data\n",
        "    indices = np.arange(text.shape[0])\n",
        "    # np.random.shuffle(indices)\n",
        "    text = text[indices]\n",
        "    print(text.shape)\n",
        "    X_train = text[0:len(X_train), ]\n",
        "    X_test = text[len(X_train):, ]\n",
        "    \n",
        "    # Load GloVe embeddings and create embeddings index\n",
        "    embeddings_index = {}\n",
        "    f = open(\".\\\\glove.6B.50d.txt\", encoding=\"utf8\")\n",
        "    for line in f:\n",
        "        values = line.split()\n",
        "        word = values[0]\n",
        "        try:\n",
        "            coefs = np.asarray(values[1:], dtype='float32')\n",
        "        except:\n",
        "            pass\n",
        "        embeddings_index[word] = coefs\n",
        "    f.close()\n",
        "    print('Total %s word vectors.' % len(embeddings_index))\n",
        "    \n",
        "    # Return train data, test data, word index and embeddings index\n",
        "    return (X_train, X_test, word_index, embeddings_index)\n",
        "def Build_Model_RNN_Text(word_index, embeddings_index, nclasses, MAX_SEQUENCE_LENGTH=500, EMBEDDING_DIM=50, dropout=0.5):\n",
        "    \"\"\"\n",
        "    def buildModel_RNN(word_index, embeddings_index, nclasses,  MAX_SEQUENCE_LENGTH=500, EMBEDDING_DIM=50, dropout=0.5):\n",
        "    word_index in word index ,\n",
        "    embeddings_index is embeddings index, look at data_helper.py\n",
        "    nClasses is number of classes,\n",
        "    MAX_SEQUENCE_LENGTH is maximum lenght of text sequences\n",
        "    \"\"\"\n",
        "    \n",
        "    # Create sequential model\n",
        "    model = Sequential()\n",
        "    \n",
        "    # Define number of hidden layers and nodes in GRU layer\n",
        "    hidden_layer = 3\n",
        "    gru_node = 32\n",
        "    \n",
        "    # Create embedding matrix with random values\n",
        "    embedding_matrix = np.random.random((len(word_index) + 1, EMBEDDING_DIM))\n",
        "    \n",
        "    # Fill embedding matrix with GloVe embeddings\n",
        "    for word, i in word_index.items():\n",
        "        embedding_vector = embeddings_index.get(word)\n",
        "        if embedding_vector is not None:\n",
        "            # words not found in embedding index will be all-zeros.\n",
        "            if len(embedding_matrix[i]) != len(embedding_vector):\n",
        "                print(\"could not broadcast input array from shape\", str(len(embedding_matrix[i])),\n",
        "                      \"into shape\", str(len(embedding_vector)), \" Please make sure your\"\n",
        "                                                                \" EMBEDDING_DIM is equal to embedding_vector file ,GloVe,\")\n",
        "                exit(1)\n",
        "            embedding_matrix[i] = embedding_vector\n",
        "    \n",
        "    # Add embedding layer to model\n",
        "    model.add(Embedding(len(word_index) + 1,\n",
        "                        EMBEDDING_DIM,\n",
        "                        weights=[embedding_matrix],\n",
        "                        input_length=MAX_SEQUENCE_LENGTH,\n",
        "                        trainable=True))\n",
        "    # Add GRU layers with dropout to model\n",
        "    print(gru_node)\n",
        "    for i in range(0,hidden_layer):\n",
        "        model.add(GRU(gru_node,return_sequences=True, recurrent_dropout=0.2))\n",
        "        model.add(Dropout(dropout))\n",
        "    model.add(GRU(gru_node, recurrent_dropout=0.2))\n",
        "    model.add(Dropout(dropout))\n",
        "    model.add(Dense(256, activation='relu'))\n",
        "    model.add(Dense(nclasses, activation='softmax'))\n",
        "\n",
        "\n",
        "    model.compile(loss='sparse_categorical_crossentropy',\n",
        "                      optimizer='adam',\n",
        "                      metrics=['accuracy'])\n",
        "    return model"
      ]
    },
    {
      "cell_type": "code",
      "execution_count": null,
      "metadata": {
        "id": "G7mNiw1JO2Ya",
        "outputId": "ae10603e-8b91-46d9-9d9b-0a8026ddbb9e"
      },
      "outputs": [
        {
          "name": "stdout",
          "output_type": "stream",
          "text": [
            "Found 179209 unique tokens.\n",
            "(18846, 500)\n",
            "Total 400000 word vectors.\n",
            "32\n",
            "Epoch 1/10\n",
            "89/89 - 144s - loss: 2.9543 - accuracy: 0.0756 - val_loss: 2.8262 - val_accuracy: 0.1038 - 144s/epoch - 2s/step\n",
            "Epoch 2/10\n",
            "89/89 - 132s - loss: 2.6319 - accuracy: 0.1261 - val_loss: 2.3925 - val_accuracy: 0.1645 - 132s/epoch - 1s/step\n",
            "Epoch 3/10\n",
            "89/89 - 131s - loss: 2.3388 - accuracy: 0.1710 - val_loss: 2.9863 - val_accuracy: 0.1468 - 131s/epoch - 1s/step\n",
            "Epoch 4/10\n",
            "89/89 - 134s - loss: 2.2179 - accuracy: 0.2012 - val_loss: 2.0764 - val_accuracy: 0.2272 - 134s/epoch - 2s/step\n",
            "Epoch 5/10\n",
            "89/89 - 132s - loss: 1.9565 - accuracy: 0.2634 - val_loss: 1.9636 - val_accuracy: 0.2667 - 132s/epoch - 1s/step\n",
            "Epoch 6/10\n",
            "89/89 - 420s - loss: 1.7650 - accuracy: 0.3195 - val_loss: 1.8351 - val_accuracy: 0.3286 - 420s/epoch - 5s/step\n",
            "Epoch 7/10\n",
            "89/89 - 137s - loss: 1.5787 - accuracy: 0.3847 - val_loss: 1.7610 - val_accuracy: 0.3735 - 137s/epoch - 2s/step\n",
            "Epoch 8/10\n",
            "89/89 - 141s - loss: 1.3817 - accuracy: 0.4529 - val_loss: 1.7628 - val_accuracy: 0.4100 - 141s/epoch - 2s/step\n",
            "Epoch 9/10\n",
            "89/89 - 140s - loss: 1.2110 - accuracy: 0.5136 - val_loss: 1.7784 - val_accuracy: 0.4203 - 140s/epoch - 2s/step\n",
            "Epoch 10/10\n",
            "89/89 - 144s - loss: 1.0506 - accuracy: 0.5726 - val_loss: 1.8114 - val_accuracy: 0.4445 - 144s/epoch - 2s/step\n",
            "236/236 [==============================] - 36s 148ms/step\n",
            "              precision    recall  f1-score   support\n",
            "\n",
            "           0       0.41      0.61      0.49       319\n",
            "           1       0.21      0.11      0.15       389\n",
            "           2       0.27      0.57      0.36       394\n",
            "           3       0.41      0.19      0.26       392\n",
            "           4       0.28      0.33      0.30       385\n",
            "           5       0.42      0.55      0.48       395\n",
            "           6       0.53      0.47      0.50       390\n",
            "           7       0.42      0.39      0.40       396\n",
            "           8       0.53      0.39      0.45       398\n",
            "           9       0.59      0.40      0.48       397\n",
            "          10       0.60      0.58      0.59       399\n",
            "          11       0.53      0.57      0.55       396\n",
            "          12       0.36      0.23      0.28       393\n",
            "          13       0.54      0.46      0.49       396\n",
            "          14       0.41      0.61      0.49       394\n",
            "          15       0.57      0.71      0.63       398\n",
            "          16       0.36      0.53      0.43       364\n",
            "          17       0.92      0.70      0.79       376\n",
            "          18       0.40      0.33      0.36       310\n",
            "          19       0.08      0.01      0.01       251\n",
            "\n",
            "    accuracy                           0.44      7532\n",
            "   macro avg       0.44      0.44      0.43      7532\n",
            "weighted avg       0.45      0.44      0.43      7532\n",
            "\n"
          ]
        }
      ],
      "source": [
        "# Load the tokenized data and GloVe embeddings\n",
        "X_train_Glove,X_test_Glove, word_index,embeddings_index = loadData_Tokenizer(X_train,X_test)\n",
        "\n",
        "# Build the RNN model using the tokenized data and embeddings\n",
        "model_RNN = Build_Model_RNN_Text(word_index,embeddings_index, 20)\n",
        "\n",
        "# Train the RNN model on the tokenized data and evaluate it on the test data\n",
        "model_RNN.fit(X_train_Glove, y_train,\n",
        "                              validation_data=(X_test_Glove, y_test),\n",
        "                              epochs=10,\n",
        "                              batch_size=128,\n",
        "                              verbose=2)\n",
        "\n",
        "# Predict the class labels for the test data using the trained model\n",
        "predicted = model_RNN.predict(X_test_Glove)\n",
        "\n",
        "# Print the classification report for the test data\n",
        "print(metrics.classification_report(y_test, np.argmax(predicted, axis=1)))\n"
      ]
    },
    {
      "cell_type": "code",
      "execution_count": null,
      "metadata": {
        "id": "n1TcoskyO2Ya",
        "outputId": "a0487091-f745-4313-953b-b58ed4ee6415"
      },
      "outputs": [
        {
          "name": "stdout",
          "output_type": "stream",
          "text": [
            "Performance of Recurrent Neural Network for text classification\n",
            "              precision    recall  f1-score   support\n",
            "\n",
            "           0       0.41      0.61      0.49       319\n",
            "           1       0.21      0.11      0.15       389\n",
            "           2       0.27      0.57      0.36       394\n",
            "           3       0.41      0.19      0.26       392\n",
            "           4       0.28      0.33      0.30       385\n",
            "           5       0.42      0.55      0.48       395\n",
            "           6       0.53      0.47      0.50       390\n",
            "           7       0.42      0.39      0.40       396\n",
            "           8       0.53      0.39      0.45       398\n",
            "           9       0.59      0.40      0.48       397\n",
            "          10       0.60      0.58      0.59       399\n",
            "          11       0.53      0.57      0.55       396\n",
            "          12       0.36      0.23      0.28       393\n",
            "          13       0.54      0.46      0.49       396\n",
            "          14       0.41      0.61      0.49       394\n",
            "          15       0.57      0.71      0.63       398\n",
            "          16       0.36      0.53      0.43       364\n",
            "          17       0.92      0.70      0.79       376\n",
            "          18       0.40      0.33      0.36       310\n",
            "          19       0.08      0.01      0.01       251\n",
            "\n",
            "    accuracy                           0.44      7532\n",
            "   macro avg       0.44      0.44      0.43      7532\n",
            "weighted avg       0.45      0.44      0.43      7532\n",
            "\n"
          ]
        }
      ],
      "source": [
        "print(\"Performance of Recurrent Neural Network for text classification\")\n",
        "print(metrics.classification_report(y_test, np.argmax(predicted, axis=1)))"
      ]
    },
    {
      "cell_type": "code",
      "execution_count": null,
      "metadata": {
        "id": "rYiJ4NevO2Yb",
        "outputId": "c543a8af-f77f-480f-c6e1-048dad498e9c"
      },
      "outputs": [
        {
          "name": "stdout",
          "output_type": "stream",
          "text": [
            "Performance of Recurrent Neural Network for text classification\n",
            "accuracy is 0.4445034519383962\n",
            "MCC: 0.41667852990769155\n",
            "Macro-Averaging Metrics:\n",
            "Accuracy: 0.44\n",
            "Precision: 0.44\n",
            "Recall: 0.44\n",
            "F1 Score: 0.43\n",
            "\n",
            "Micro-Averaging Metrics:\n",
            "Accuracy: 0.44\n",
            "Precision: 0.44\n",
            "Recall: 0.44\n",
            "F1 Score: 0.44\n"
          ]
        }
      ],
      "source": [
        "print(\"Performance of Recurrent Neural Network for text classification\")\n",
        "# Accuracy score\n",
        "print('accuracy is',accuracy_score(y_test,np.argmax(predicted, axis=1)))\n",
        "mcc = matthews_corrcoef(y_test, np.argmax(predicted, axis=1))\n",
        "print(\"MCC:\", mcc)\n",
        "# Macro-Averaging\n",
        "macro_accuracy = accuracy_score(y_test, np.argmax(predicted, axis=1))\n",
        "macro_precision, macro_recall, macro_f1, _ = score(y_test, np.argmax(predicted, axis=1), average='macro')\n",
        "print(\"Macro-Averaging Metrics:\")\n",
        "print(f\"Accuracy: {macro_accuracy:.2f}\")\n",
        "print(f\"Precision: {macro_precision:.2f}\")\n",
        "print(f\"Recall: {macro_recall:.2f}\")\n",
        "print(f\"F1 Score: {macro_f1:.2f}\")\n",
        "# Micro-Averaging\n",
        "micro_accuracy = accuracy_score(y_test, np.argmax(predicted, axis=1))\n",
        "micro_precision, micro_recall, micro_f1, _ = score(y_test, np.argmax(predicted, axis=1), average='micro')\n",
        "print(\"\\nMicro-Averaging Metrics:\")\n",
        "print(f\"Accuracy: {micro_accuracy:.2f}\")\n",
        "print(f\"Precision: {micro_precision:.2f}\")\n",
        "print(f\"Recall: {micro_recall:.2f}\")\n",
        "print(f\"F1 Score: {micro_f1:.2f}\")"
      ]
    },
    {
      "cell_type": "markdown",
      "metadata": {
        "id": "kOnYL0OIO2Yb"
      },
      "source": [
        "Convolutional Neural Networks"
      ]
    },
    {
      "cell_type": "code",
      "execution_count": null,
      "metadata": {
        "id": "b6eFnZZzO2Yb"
      },
      "outputs": [],
      "source": [
        "from keras.layers import Dropout, Dense,Input,Embedding,Flatten, MaxPooling1D, Conv1D\n",
        "from keras.models import Sequential,Model\n",
        "from sklearn.feature_extraction.text import TfidfVectorizer\n",
        "import numpy as np\n",
        "from sklearn import metrics\n",
        "from keras.preprocessing.text import Tokenizer\n",
        "from tensorflow.keras.preprocessing.sequence import pad_sequences\n",
        "from tensorflow.keras.layers import Concatenate\n",
        "\n",
        "def loadData_Tokenizer(X_train, X_test, MAX_NB_WORDS=75000, MAX_SEQUENCE_LENGTH=500):\n",
        "    # Set random seed\n",
        "    np.random.seed(7)\n",
        "    \n",
        "    # Concatenate train and test data\n",
        "    text = np.concatenate((X_train, X_test), axis=0)\n",
        "    text = np.array(text)\n",
        "    \n",
        "    # Tokenize text\n",
        "    tokenizer = Tokenizer(num_words=MAX_NB_WORDS)\n",
        "    tokenizer.fit_on_texts(text)\n",
        "    sequences = tokenizer.texts_to_sequences(text)\n",
        "    word_index = tokenizer.word_index\n",
        "    \n",
        "    # Pad sequences\n",
        "    text = pad_sequences(sequences, maxlen=MAX_SEQUENCE_LENGTH)\n",
        "    print('Found %s unique tokens.' % len(word_index))\n",
        "    \n",
        "    # Shuffle and split train and test data\n",
        "    indices = np.arange(text.shape[0])\n",
        "    # np.random.shuffle(indices)\n",
        "    text = text[indices]\n",
        "    print(text.shape)\n",
        "    X_train = text[0:len(X_train), ]\n",
        "    X_test = text[len(X_train):, ]\n",
        "    \n",
        "    # Load GloVe word embeddings\n",
        "    embeddings_index = {}\n",
        "    f = open(\".\\\\glove.6B.50d.txt\", encoding=\"utf8\")\n",
        "    for line in f:\n",
        "        values = line.split()\n",
        "        word = values[0]\n",
        "        try:\n",
        "            coefs = np.asarray(values[1:], dtype='float32')\n",
        "        except:\n",
        "            pass\n",
        "        embeddings_index[word] = coefs\n",
        "    f.close()\n",
        "    print('Total %s word vectors.' % len(embeddings_index))\n",
        "    \n",
        "    return (X_train, X_test, word_index, embeddings_index)\n",
        "\n",
        "def Build_Model_CNN_Text(word_index, embeddings_index, nclasses, MAX_SEQUENCE_LENGTH=500, EMBEDDING_DIM=50, dropout=0.5):\n",
        "\n",
        "    \"\"\"\n",
        "        def buildModel_CNN(word_index, embeddings_index, nclasses, MAX_SEQUENCE_LENGTH=500, EMBEDDING_DIM=50, dropout=0.5):\n",
        "        word_index in word index ,\n",
        "        embeddings_index is embeddings index, look at data_helper.py\n",
        "        nClasses is number of classes,\n",
        "        MAX_SEQUENCE_LENGTH is maximum lenght of text sequences,\n",
        "        EMBEDDING_DIM is an int value for dimention of word embedding look at data_helper.py\n",
        "    \"\"\"\n",
        "\n",
        "    model = Sequential()\n",
        "    embedding_matrix = np.random.random((len(word_index) + 1, EMBEDDING_DIM))\n",
        "    for word, i in word_index.items():\n",
        "        embedding_vector = embeddings_index.get(word)\n",
        "        if embedding_vector is not None:\n",
        "            # words not found in embedding index will be all-zeros.\n",
        "            if len(embedding_matrix[i]) !=len(embedding_vector):\n",
        "                print(\"could not broadcast input array from shape\",str(len(embedding_matrix[i])),\n",
        "                                 \"into shape\",str(len(embedding_vector)),\" Please make sure your\"\n",
        "                                 \" EMBEDDING_DIM is equal to embedding_vector file ,GloVe,\")\n",
        "                exit(1)\n",
        "\n",
        "            embedding_matrix[i] = embedding_vector\n",
        "\n",
        "    embedding_layer = Embedding(len(word_index) + 1,\n",
        "                                EMBEDDING_DIM,\n",
        "                                weights=[embedding_matrix],\n",
        "                                input_length=MAX_SEQUENCE_LENGTH,\n",
        "                                trainable=True)\n",
        "\n",
        "    # applying a more complex convolutional approach\n",
        "    convs = []\n",
        "    filter_sizes = []\n",
        "    layer = 5\n",
        "    print(\"Filter  \",layer)\n",
        "    for fl in range(0,layer):\n",
        "        filter_sizes.append((fl+2))\n",
        "\n",
        "    node = 128\n",
        "    sequence_input = Input(shape=(MAX_SEQUENCE_LENGTH,), dtype='int32')\n",
        "    embedded_sequences = embedding_layer(sequence_input)\n",
        "\n",
        "    # Apply multiple convolutional layers with different filter sizes and max-pooling\n",
        "    for fsz in filter_sizes:\n",
        "        l_conv = Conv1D(n_filters, kernel_size=fsz, activation='relu')(embedded_sequences)\n",
        "        l_pool = MaxPooling1D(5)(l_conv)\n",
        "        convs.append(l_pool)\n",
        "    \n",
        "    # Concatenate the outputs from the convolutional layers\n",
        "    l_merge = Concatenate(axis=1)(convs)\n",
        "    \n",
        "    # Apply additional convolutional and max-pooling layers\n",
        "    l_cov1 = Conv1D(node, 5, activation='relu')(l_merge)\n",
        "    l_cov1 = Dropout(dropout)(l_cov1)\n",
        "    l_pool1 = MaxPooling1D(5)(l_cov1)\n",
        "    l_cov2 = Conv1D(node, 5, activation='relu')(l_pool1)\n",
        "    l_cov2 = Dropout(dropout)(l_cov2)\n",
        "    l_pool2 = MaxPooling1D(30)(l_cov2)\n",
        "    \n",
        "    # Flatten the output and pass through dense layers with dropout\n",
        "    l_flat = Flatten()(l_pool2)\n",
        "    l_dense = Dense(1024, activation='relu')(l_flat)\n",
        "    l_dense = Dropout(dropout)(l_dense)\n",
        "    l_dense = Dense(512, activation='relu')(l_dense)\n",
        "    l_dense = Dropout(dropout)(l_dense)\n",
        "    \n",
        "    # Define the output layer with softmax activation for multi-class classification\n",
        "    preds = Dense(nclasses, activation='softmax')(l_dense)\n",
        "    \n",
        "    # Define the Keras model with inputs and outputs\n",
        "    model = Model(sequence_input, preds)\n",
        "    \n",
        "    # Compile the model with appropriate loss function, optimizer, and evaluation metrics\n",
        "    model.compile(loss='sparse_categorical_crossentropy',\n",
        "                  optimizer='adam',\n",
        "                  metrics=['accuracy'])\n",
        "    \n",
        "    return model\n",
        "\n",
        "\n",
        "\n"
      ]
    },
    {
      "cell_type": "code",
      "execution_count": null,
      "metadata": {
        "id": "wkk_xNWiO2Ye",
        "outputId": "d8bbed62-67d8-4394-f67b-00f23cbf718a"
      },
      "outputs": [
        {
          "name": "stdout",
          "output_type": "stream",
          "text": [
            "Found 179209 unique tokens.\n",
            "(18846, 500)\n",
            "Total 400000 word vectors.\n",
            "Filter   5\n",
            "Model: \"model\"\n",
            "__________________________________________________________________________________________________\n",
            " Layer (type)                   Output Shape         Param #     Connected to                     \n",
            "==================================================================================================\n",
            " input_1 (InputLayer)           [(None, 500)]        0           []                               \n",
            "                                                                                                  \n",
            " embedding_1 (Embedding)        (None, 500, 50)      8960500     ['input_1[0][0]']                \n",
            "                                                                                                  \n",
            " conv1d (Conv1D)                (None, 499, 128)     12928       ['embedding_1[0][0]']            \n",
            "                                                                                                  \n",
            " conv1d_1 (Conv1D)              (None, 498, 128)     19328       ['embedding_1[0][0]']            \n",
            "                                                                                                  \n",
            " conv1d_2 (Conv1D)              (None, 497, 128)     25728       ['embedding_1[0][0]']            \n",
            "                                                                                                  \n",
            " conv1d_3 (Conv1D)              (None, 496, 128)     32128       ['embedding_1[0][0]']            \n",
            "                                                                                                  \n",
            " conv1d_4 (Conv1D)              (None, 495, 128)     38528       ['embedding_1[0][0]']            \n",
            "                                                                                                  \n",
            " max_pooling1d (MaxPooling1D)   (None, 99, 128)      0           ['conv1d[0][0]']                 \n",
            "                                                                                                  \n",
            " max_pooling1d_1 (MaxPooling1D)  (None, 99, 128)     0           ['conv1d_1[0][0]']               \n",
            "                                                                                                  \n",
            " max_pooling1d_2 (MaxPooling1D)  (None, 99, 128)     0           ['conv1d_2[0][0]']               \n",
            "                                                                                                  \n",
            " max_pooling1d_3 (MaxPooling1D)  (None, 99, 128)     0           ['conv1d_3[0][0]']               \n",
            "                                                                                                  \n",
            " max_pooling1d_4 (MaxPooling1D)  (None, 99, 128)     0           ['conv1d_4[0][0]']               \n",
            "                                                                                                  \n",
            " concatenate (Concatenate)      (None, 495, 128)     0           ['max_pooling1d[0][0]',          \n",
            "                                                                  'max_pooling1d_1[0][0]',        \n",
            "                                                                  'max_pooling1d_2[0][0]',        \n",
            "                                                                  'max_pooling1d_3[0][0]',        \n",
            "                                                                  'max_pooling1d_4[0][0]']        \n",
            "                                                                                                  \n",
            " conv1d_5 (Conv1D)              (None, 491, 128)     82048       ['concatenate[0][0]']            \n",
            "                                                                                                  \n",
            " dropout_4 (Dropout)            (None, 491, 128)     0           ['conv1d_5[0][0]']               \n",
            "                                                                                                  \n",
            " max_pooling1d_5 (MaxPooling1D)  (None, 98, 128)     0           ['dropout_4[0][0]']              \n",
            "                                                                                                  \n",
            " conv1d_6 (Conv1D)              (None, 94, 128)      82048       ['max_pooling1d_5[0][0]']        \n",
            "                                                                                                  \n",
            " dropout_5 (Dropout)            (None, 94, 128)      0           ['conv1d_6[0][0]']               \n",
            "                                                                                                  \n",
            " max_pooling1d_6 (MaxPooling1D)  (None, 3, 128)      0           ['dropout_5[0][0]']              \n",
            "                                                                                                  \n",
            " flatten (Flatten)              (None, 384)          0           ['max_pooling1d_6[0][0]']        \n",
            "                                                                                                  \n",
            " dense_2 (Dense)                (None, 1024)         394240      ['flatten[0][0]']                \n",
            "                                                                                                  \n",
            " dropout_6 (Dropout)            (None, 1024)         0           ['dense_2[0][0]']                \n",
            "                                                                                                  \n",
            " dense_3 (Dense)                (None, 512)          524800      ['dropout_6[0][0]']              \n",
            "                                                                                                  \n",
            " dropout_7 (Dropout)            (None, 512)          0           ['dense_3[0][0]']                \n",
            "                                                                                                  \n",
            " dense_4 (Dense)                (None, 20)           10260       ['dropout_7[0][0]']              \n",
            "                                                                                                  \n",
            "==================================================================================================\n",
            "Total params: 10,182,536\n",
            "Trainable params: 10,182,536\n",
            "Non-trainable params: 0\n",
            "__________________________________________________________________________________________________\n",
            "Epoch 1/15\n",
            "89/89 - 62s - loss: 2.9780 - accuracy: 0.0709 - val_loss: 2.8670 - val_accuracy: 0.0809 - 62s/epoch - 694ms/step\n",
            "Epoch 2/15\n",
            "89/89 - 60s - loss: 2.3829 - accuracy: 0.1810 - val_loss: 2.2651 - val_accuracy: 0.3182 - 60s/epoch - 679ms/step\n",
            "Epoch 3/15\n",
            "89/89 - 67s - loss: 1.7244 - accuracy: 0.3695 - val_loss: 1.8608 - val_accuracy: 0.4659 - 67s/epoch - 749ms/step\n",
            "Epoch 4/15\n",
            "89/89 - 61s - loss: 1.3124 - accuracy: 0.5089 - val_loss: 1.6053 - val_accuracy: 0.5377 - 61s/epoch - 687ms/step\n",
            "Epoch 5/15\n",
            "89/89 - 66s - loss: 1.0173 - accuracy: 0.6218 - val_loss: 1.4476 - val_accuracy: 0.5901 - 66s/epoch - 740ms/step\n",
            "Epoch 6/15\n",
            "89/89 - 66s - loss: 0.7829 - accuracy: 0.7168 - val_loss: 1.3132 - val_accuracy: 0.6256 - 66s/epoch - 736ms/step\n",
            "Epoch 7/15\n",
            "89/89 - 63s - loss: 0.6192 - accuracy: 0.7744 - val_loss: 1.1575 - val_accuracy: 0.6435 - 63s/epoch - 711ms/step\n",
            "Epoch 8/15\n",
            "89/89 - 63s - loss: 0.4778 - accuracy: 0.8337 - val_loss: 1.0515 - val_accuracy: 0.6648 - 63s/epoch - 704ms/step\n",
            "Epoch 9/15\n",
            "89/89 - 62s - loss: 0.3588 - accuracy: 0.8737 - val_loss: 0.9816 - val_accuracy: 0.6840 - 62s/epoch - 697ms/step\n",
            "Epoch 10/15\n",
            "89/89 - 61s - loss: 0.3140 - accuracy: 0.8908 - val_loss: 0.9747 - val_accuracy: 0.6924 - 61s/epoch - 680ms/step\n",
            "Epoch 11/15\n",
            "89/89 - 62s - loss: 0.2337 - accuracy: 0.9213 - val_loss: 0.9598 - val_accuracy: 0.6863 - 62s/epoch - 694ms/step\n",
            "Epoch 12/15\n",
            "89/89 - 60s - loss: 0.1925 - accuracy: 0.9342 - val_loss: 1.0154 - val_accuracy: 0.6741 - 60s/epoch - 671ms/step\n",
            "Epoch 13/15\n",
            "89/89 - 60s - loss: 0.1653 - accuracy: 0.9463 - val_loss: 0.9082 - val_accuracy: 0.7087 - 60s/epoch - 675ms/step\n",
            "Epoch 14/15\n",
            "89/89 - 61s - loss: 0.1271 - accuracy: 0.9574 - val_loss: 1.0038 - val_accuracy: 0.6794 - 61s/epoch - 691ms/step\n",
            "Epoch 15/15\n",
            "89/89 - 60s - loss: 0.1110 - accuracy: 0.9645 - val_loss: 1.0001 - val_accuracy: 0.6869 - 60s/epoch - 672ms/step\n",
            "236/236 [==============================] - 9s 36ms/step\n"
          ]
        }
      ],
      "source": [
        "# load data using the function loadData_Tokenizer and save the returned values\n",
        "X_train_Glove,X_test_Glove, word_index,embeddings_index = loadData_Tokenizer(X_train,X_test)\n",
        "\n",
        "# build a CNN model using the word index and embedding index\n",
        "model_CNN = Build_Model_CNN_Text(word_index,embeddings_index, 20)\n",
        "\n",
        "# print model summary\n",
        "model_CNN.summary()\n",
        "\n",
        "# train the model using the training data and validate using the testing data\n",
        "# for 15 epochs, with a batch size of 128 and show the training progress\n",
        "model_CNN.fit(X_train_Glove, y_train,\n",
        "              validation_data=(X_test_Glove, y_test),\n",
        "              epochs=15,\n",
        "              batch_size=128,\n",
        "              verbose=2)\n",
        "\n",
        "# predict using the trained model on the testing data and convert the predicted values to labels\n",
        "predicted = model_CNN.predict(X_test_Glove)\n",
        "predicted = np.argmax(predicted, axis=1)\n"
      ]
    },
    {
      "cell_type": "code",
      "execution_count": null,
      "metadata": {
        "id": "5u6pZnSKO2Ye",
        "outputId": "4bbb4794-d807-4ab4-c363-ffe2e54002ae"
      },
      "outputs": [
        {
          "name": "stdout",
          "output_type": "stream",
          "text": [
            "Performance of Convolutional Neural Network for text classification\n",
            "              precision    recall  f1-score   support\n",
            "\n",
            "           0       0.65      0.60      0.63       319\n",
            "           1       0.50      0.57      0.53       389\n",
            "           2       0.80      0.41      0.54       394\n",
            "           3       0.55      0.38      0.45       392\n",
            "           4       0.42      0.59      0.49       385\n",
            "           5       0.73      0.60      0.66       395\n",
            "           6       0.87      0.72      0.79       390\n",
            "           7       0.76      0.65      0.70       396\n",
            "           8       0.66      0.95      0.78       398\n",
            "           9       0.92      0.90      0.91       397\n",
            "          10       0.97      0.91      0.94       399\n",
            "          11       0.93      0.74      0.82       396\n",
            "          12       0.45      0.56      0.50       393\n",
            "          13       0.86      0.82      0.84       396\n",
            "          14       0.72      0.83      0.77       394\n",
            "          15       0.84      0.75      0.79       398\n",
            "          16       0.73      0.71      0.72       364\n",
            "          17       0.96      0.73      0.83       376\n",
            "          18       0.53      0.65      0.58       310\n",
            "          19       0.35      0.65      0.45       251\n",
            "\n",
            "    accuracy                           0.69      7532\n",
            "   macro avg       0.71      0.68      0.69      7532\n",
            "weighted avg       0.72      0.69      0.69      7532\n",
            "\n"
          ]
        }
      ],
      "source": [
        "print(\"Performance of Convolutional Neural Network for text classification\")\n",
        "print(metrics.classification_report(y_test, predicted))"
      ]
    },
    {
      "cell_type": "code",
      "execution_count": null,
      "metadata": {
        "id": "RX8O3RChO2Ye",
        "outputId": "9315c359-8979-4af6-eb02-5e6281523f96"
      },
      "outputs": [
        {
          "name": "stdout",
          "output_type": "stream",
          "text": [
            "Performance of Convolutional Neural Network for text classification\n",
            "accuracy is 0.6869357408390866\n",
            "MCC: 0.6717716243295059\n",
            "Macro-Averaging Metrics:\n",
            "Accuracy: 0.69\n",
            "Precision: 0.71\n",
            "Recall: 0.68\n",
            "F1 Score: 0.69\n",
            "\n",
            "Micro-Averaging Metrics:\n",
            "Accuracy: 0.69\n",
            "Precision: 0.69\n",
            "Recall: 0.69\n",
            "F1 Score: 0.69\n"
          ]
        }
      ],
      "source": [
        "print(\"Performance of Convolutional Neural Network for text classification\")\n",
        "# Accuracy score\n",
        "print('accuracy is',accuracy_score(y_test,predicted))\n",
        "mcc = matthews_corrcoef(y_test, predicted)\n",
        "print(\"MCC:\", mcc)\n",
        "# Macro-Averaging\n",
        "macro_accuracy = accuracy_score(y_test, predicted)\n",
        "macro_precision, macro_recall, macro_f1, _ = score(y_test, predicted, average='macro')\n",
        "print(\"Macro-Averaging Metrics:\")\n",
        "print(f\"Accuracy: {macro_accuracy:.2f}\")\n",
        "print(f\"Precision: {macro_precision:.2f}\")\n",
        "print(f\"Recall: {macro_recall:.2f}\")\n",
        "print(f\"F1 Score: {macro_f1:.2f}\")\n",
        "# Micro-Averaging\n",
        "micro_accuracy = accuracy_score(y_test, predicted)\n",
        "micro_precision, micro_recall, micro_f1, _ = score(y_test, predicted, average='micro')\n",
        "print(\"\\nMicro-Averaging Metrics:\")\n",
        "print(f\"Accuracy: {micro_accuracy:.2f}\")\n",
        "print(f\"Precision: {micro_precision:.2f}\")\n",
        "print(f\"Recall: {micro_recall:.2f}\")\n",
        "print(f\"F1 Score: {micro_f1:.2f}\")"
      ]
    },
    {
      "cell_type": "markdown",
      "metadata": {
        "id": "2CT2ZfqPO2Ye"
      },
      "source": [
        "Recurrent Convolutional Neural Networks"
      ]
    },
    {
      "cell_type": "code",
      "execution_count": null,
      "metadata": {
        "id": "L9HGxVRpO2Ye"
      },
      "outputs": [],
      "source": [
        "from keras.preprocessing import sequence\n",
        "from keras.models import Sequential\n",
        "from keras.layers import Dense, Dropout, Activation\n",
        "from keras.layers import Embedding\n",
        "from keras.layers import GRU\n",
        "from keras.layers import Conv1D, MaxPooling1D\n",
        "from keras.datasets import imdb\n",
        "from sklearn.datasets import fetch_20newsgroups\n",
        "import numpy as np\n",
        "from sklearn import metrics\n",
        "from keras.preprocessing.text import Tokenizer\n",
        "from tensorflow.keras.preprocessing.sequence import pad_sequences\n",
        "\n",
        "def loadData_Tokenizer(X_train, X_test,MAX_NB_WORDS=75000,MAX_SEQUENCE_LENGTH=500):\n",
        "    np.random.seed(7)\n",
        "    # Concatenate training and testing data\n",
        "    text = np.concatenate((X_train, X_test), axis=0)\n",
        "    text = np.array(text)\n",
        "\n",
        "    # Tokenize the text data and create word to index mappings\n",
        "    tokenizer = Tokenizer(num_words=MAX_NB_WORDS)\n",
        "    tokenizer.fit_on_texts(text)\n",
        "    sequences = tokenizer.texts_to_sequences(text)\n",
        "    word_index = tokenizer.word_index\n",
        "\n",
        "    # Pad the sequences to have uniform length\n",
        "    text = pad_sequences(sequences, maxlen=MAX_SEQUENCE_LENGTH)\n",
        "    print('Found %s unique tokens.' % len(word_index))\n",
        "\n",
        "    # Shuffle the data and split into training and testing sets\n",
        "    indices = np.arange(text.shape[0])\n",
        "    # np.random.shuffle(indices)\n",
        "    text = text[indices]\n",
        "    print(text.shape)\n",
        "    X_train = text[0:len(X_train), ]\n",
        "    X_test = text[len(X_train):, ]\n",
        "\n",
        "    # Load pre-trained GloVe embeddings\n",
        "    embeddings_index = {}\n",
        "    f = open(\".\\\\glove.6B.50d.txt\", encoding=\"utf8\")\n",
        "    for line in f:\n",
        "        values = line.split()\n",
        "        word = values[0]\n",
        "        try:\n",
        "            coefs = np.asarray(values[1:], dtype='float32')\n",
        "        except:\n",
        "            pass\n",
        "        embeddings_index[word] = coefs\n",
        "    f.close()\n",
        "    print('Total %s word vectors.' % len(embeddings_index))\n",
        "\n",
        "    return (X_train, X_test, word_index, embeddings_index)\n",
        "\n",
        "# Define a function to build a recurrent convolutional neural network (RCNN) text classification model\n",
        "def Build_Model_RCNN_Text(word_index, embeddings_index, nclasses, MAX_SEQUENCE_LENGTH=500, EMBEDDING_DIM=50):\n",
        "\n",
        "    # Define hyperparameters for the model architecture\n",
        "    kernel_size = 2\n",
        "    filters = 256\n",
        "    pool_size = 2\n",
        "    gru_node = 256\n",
        "\n",
        "    # Create a random embedding matrix with the specified dimensions\n",
        "    embedding_matrix = np.random.random((len(word_index) + 1, EMBEDDING_DIM))\n",
        "\n",
        "    # Iterate over each word in the word index and update its embedding in the matrix if it exists in the embeddings index\n",
        "    for word, i in word_index.items():\n",
        "        embedding_vector = embeddings_index.get(word)\n",
        "        if embedding_vector is not None:\n",
        "            # Ensure that the shape of the embedding vector matches the specified embedding dimensions\n",
        "            if len(embedding_matrix[i]) !=len(embedding_vector):\n",
        "                print(\"could not broadcast input array from shape\",str(len(embedding_matrix[i])),\n",
        "                                 \"into shape\",str(len(embedding_vector)),\" Please make sure your\"\n",
        "                                 \" EMBEDDING_DIM is equal to embedding_vector file ,GloVe,\")\n",
        "                exit(1)\n",
        "\n",
        "            embedding_matrix[i] = embedding_vector\n",
        "\n",
        "    # Define the model architecture using the Keras Sequential API\n",
        "    model = Sequential()\n",
        "\n",
        "    # Add an embedding layer with the specified dimensions and weights\n",
        "    model.add(Embedding(len(word_index) + 1,\n",
        "                                EMBEDDING_DIM,\n",
        "                                weights=[embedding_matrix],\n",
        "                                input_length=MAX_SEQUENCE_LENGTH,\n",
        "                                trainable=True))\n",
        "\n",
        "    # Add dropout regularization to the embedding layer to prevent overfitting\n",
        "    model.add(Dropout(0.25))\n",
        "\n",
        "    # Add four 1D convolutional layers with specified parameters and activation function\n",
        "    model.add(Conv1D(filters, kernel_size, activation='relu'))\n",
        "    model.add(MaxPooling1D(pool_size=pool_size))\n",
        "    model.add(Conv1D(filters, kernel_size, activation='relu'))\n",
        "    model.add(MaxPooling1D(pool_size=pool_size))\n",
        "    model.add(Conv1D(filters, kernel_size, activation='relu'))\n",
        "    model.add(MaxPooling1D(pool_size=pool_size))\n",
        "    model.add(Conv1D(filters, kernel_size, activation='relu'))\n",
        "    model.add(MaxPooling1D(pool_size=pool_size))\n",
        "\n",
        "    # Add four LSTM layers with specified number of nodes and recurrent dropout regularization\n",
        "    model.add(LSTM(gru_node, return_sequences=True, recurrent_dropout=0.2))\n",
        "    model.add(LSTM(gru_node, return_sequences=True, recurrent_dropout=0.2))\n",
        "    model.add(LSTM(gru_node, return_sequences=True, recurrent_dropout=0.2))\n",
        "    model.add(LSTM(gru_node, recurrent_dropout=0.2))\n",
        "\n",
        "    # Add two dense layers with specified number of nodes and activation function\n",
        "    model.add(Dense(1024,activation='relu'))\n",
        "    model.add(Dense(nclasses))\n",
        "\n",
        "    # Add a softmax activation layer for classification\n",
        "    model.add(Activation('softmax'))\n",
        "\n",
        "    # Compile the model with specified loss function, optimizer, and evaluation metrics\n",
        "    model.compile(loss='sparse_categorical_crossentropy',\n",
        "                  optimizer='adam',\n",
        "                  metrics=['accuracy'])\n",
        "\n",
        "    return model\n"
      ]
    },
    {
      "cell_type": "code",
      "execution_count": null,
      "metadata": {
        "id": "VKD8qr-UO2Yf",
        "outputId": "a0447c71-5ecd-449f-e96b-ecf8780bc11f"
      },
      "outputs": [
        {
          "name": "stdout",
          "output_type": "stream",
          "text": [
            "Found 179209 unique tokens.\n",
            "(18846, 500)\n",
            "Total 400000 word vectors.\n",
            "Filter   5\n",
            "Model: \"model_1\"\n",
            "__________________________________________________________________________________________________\n",
            " Layer (type)                   Output Shape         Param #     Connected to                     \n",
            "==================================================================================================\n",
            " input_2 (InputLayer)           [(None, 500)]        0           []                               \n",
            "                                                                                                  \n",
            " embedding_2 (Embedding)        (None, 500, 50)      8960500     ['input_2[0][0]']                \n",
            "                                                                                                  \n",
            " conv1d_7 (Conv1D)              (None, 499, 128)     12928       ['embedding_2[0][0]']            \n",
            "                                                                                                  \n",
            " conv1d_8 (Conv1D)              (None, 498, 128)     19328       ['embedding_2[0][0]']            \n",
            "                                                                                                  \n",
            " conv1d_9 (Conv1D)              (None, 497, 128)     25728       ['embedding_2[0][0]']            \n",
            "                                                                                                  \n",
            " conv1d_10 (Conv1D)             (None, 496, 128)     32128       ['embedding_2[0][0]']            \n",
            "                                                                                                  \n",
            " conv1d_11 (Conv1D)             (None, 495, 128)     38528       ['embedding_2[0][0]']            \n",
            "                                                                                                  \n",
            " max_pooling1d_7 (MaxPooling1D)  (None, 99, 128)     0           ['conv1d_7[0][0]']               \n",
            "                                                                                                  \n",
            " max_pooling1d_8 (MaxPooling1D)  (None, 99, 128)     0           ['conv1d_8[0][0]']               \n",
            "                                                                                                  \n",
            " max_pooling1d_9 (MaxPooling1D)  (None, 99, 128)     0           ['conv1d_9[0][0]']               \n",
            "                                                                                                  \n",
            " max_pooling1d_10 (MaxPooling1D  (None, 99, 128)     0           ['conv1d_10[0][0]']              \n",
            " )                                                                                                \n",
            "                                                                                                  \n",
            " max_pooling1d_11 (MaxPooling1D  (None, 99, 128)     0           ['conv1d_11[0][0]']              \n",
            " )                                                                                                \n",
            "                                                                                                  \n",
            " concatenate_1 (Concatenate)    (None, 495, 128)     0           ['max_pooling1d_7[0][0]',        \n",
            "                                                                  'max_pooling1d_8[0][0]',        \n",
            "                                                                  'max_pooling1d_9[0][0]',        \n",
            "                                                                  'max_pooling1d_10[0][0]',       \n",
            "                                                                  'max_pooling1d_11[0][0]']       \n",
            "                                                                                                  \n",
            " conv1d_12 (Conv1D)             (None, 491, 128)     82048       ['concatenate_1[0][0]']          \n",
            "                                                                                                  \n",
            " dropout_8 (Dropout)            (None, 491, 128)     0           ['conv1d_12[0][0]']              \n",
            "                                                                                                  \n",
            " max_pooling1d_12 (MaxPooling1D  (None, 98, 128)     0           ['dropout_8[0][0]']              \n",
            " )                                                                                                \n",
            "                                                                                                  \n",
            " conv1d_13 (Conv1D)             (None, 94, 128)      82048       ['max_pooling1d_12[0][0]']       \n",
            "                                                                                                  \n",
            " dropout_9 (Dropout)            (None, 94, 128)      0           ['conv1d_13[0][0]']              \n",
            "                                                                                                  \n",
            " max_pooling1d_13 (MaxPooling1D  (None, 3, 128)      0           ['dropout_9[0][0]']              \n",
            " )                                                                                                \n",
            "                                                                                                  \n",
            " flatten_1 (Flatten)            (None, 384)          0           ['max_pooling1d_13[0][0]']       \n",
            "                                                                                                  \n",
            " dense_5 (Dense)                (None, 1024)         394240      ['flatten_1[0][0]']              \n",
            "                                                                                                  \n",
            " dropout_10 (Dropout)           (None, 1024)         0           ['dense_5[0][0]']                \n",
            "                                                                                                  \n",
            " dense_6 (Dense)                (None, 512)          524800      ['dropout_10[0][0]']             \n",
            "                                                                                                  \n",
            " dropout_11 (Dropout)           (None, 512)          0           ['dense_6[0][0]']                \n",
            "                                                                                                  \n",
            " dense_7 (Dense)                (None, 20)           10260       ['dropout_11[0][0]']             \n",
            "                                                                                                  \n",
            "==================================================================================================\n",
            "Total params: 10,182,536\n",
            "Trainable params: 10,182,536\n",
            "Non-trainable params: 0\n",
            "__________________________________________________________________________________________________\n",
            "Epoch 1/15\n",
            "89/89 - 102s - loss: 2.8876 - accuracy: 0.0860 - val_loss: 2.7277 - val_accuracy: 0.1336 - 102s/epoch - 1s/step\n",
            "Epoch 2/15\n",
            "89/89 - 79s - loss: 2.3469 - accuracy: 0.1842 - val_loss: 2.3623 - val_accuracy: 0.2852 - 79s/epoch - 891ms/step\n",
            "Epoch 3/15\n",
            "89/89 - 78s - loss: 1.7323 - accuracy: 0.3646 - val_loss: 1.8835 - val_accuracy: 0.4198 - 78s/epoch - 882ms/step\n",
            "Epoch 4/15\n",
            "89/89 - 78s - loss: 1.3060 - accuracy: 0.5033 - val_loss: 1.6679 - val_accuracy: 0.5806 - 78s/epoch - 879ms/step\n",
            "Epoch 5/15\n",
            "89/89 - 78s - loss: 1.0056 - accuracy: 0.6229 - val_loss: 1.3784 - val_accuracy: 0.6277 - 78s/epoch - 881ms/step\n",
            "Epoch 6/15\n",
            "89/89 - 78s - loss: 0.7797 - accuracy: 0.7156 - val_loss: 1.2781 - val_accuracy: 0.6605 - 78s/epoch - 877ms/step\n",
            "Epoch 7/15\n",
            "89/89 - 78s - loss: 0.5973 - accuracy: 0.7888 - val_loss: 1.1110 - val_accuracy: 0.6965 - 78s/epoch - 879ms/step\n",
            "Epoch 8/15\n",
            "89/89 - 85s - loss: 0.4739 - accuracy: 0.8376 - val_loss: 1.1028 - val_accuracy: 0.6819 - 85s/epoch - 958ms/step\n",
            "Epoch 9/15\n",
            "89/89 - 82s - loss: 0.3865 - accuracy: 0.8627 - val_loss: 0.9239 - val_accuracy: 0.7233 - 82s/epoch - 919ms/step\n",
            "Epoch 10/15\n",
            "89/89 - 79s - loss: 0.2847 - accuracy: 0.9037 - val_loss: 0.8942 - val_accuracy: 0.7289 - 79s/epoch - 892ms/step\n",
            "Epoch 11/15\n",
            "89/89 - 80s - loss: 0.2217 - accuracy: 0.9288 - val_loss: 0.8874 - val_accuracy: 0.7371 - 80s/epoch - 902ms/step\n",
            "Epoch 12/15\n",
            "89/89 - 80s - loss: 0.1868 - accuracy: 0.9395 - val_loss: 0.8394 - val_accuracy: 0.7487 - 80s/epoch - 904ms/step\n",
            "Epoch 13/15\n",
            "89/89 - 82s - loss: 0.1406 - accuracy: 0.9554 - val_loss: 0.8552 - val_accuracy: 0.7424 - 82s/epoch - 927ms/step\n",
            "Epoch 14/15\n",
            "89/89 - 82s - loss: 0.1178 - accuracy: 0.9610 - val_loss: 0.8552 - val_accuracy: 0.7339 - 82s/epoch - 920ms/step\n",
            "Epoch 15/15\n",
            "89/89 - 84s - loss: 0.1055 - accuracy: 0.9677 - val_loss: 0.8228 - val_accuracy: 0.7451 - 84s/epoch - 946ms/step\n",
            "236/236 [==============================] - 10s 42ms/step\n"
          ]
        }
      ],
      "source": [
        "# load data using the function loadData_Tokenizer and save the returned values\n",
        "X_train_Glove,X_test_Glove, word_index,embeddings_index = loadData_Tokenizer(X_train,X_test)\n",
        "\n",
        "# build a CNN model using the word index and embedding index\n",
        "model_RCNN = Build_Model_CNN_Text(word_index,embeddings_index, 20)\n",
        "\n",
        "# print model summary\n",
        "model_RCNN.summary()\n",
        "\n",
        "\n",
        "# train the model using the training data and validate using the testing data\n",
        "# for 15 epochs, with a batch size of 128 and show the training progress\n",
        "model_RCNN.fit(X_train_Glove, y_train,\n",
        "                              validation_data=(X_test_Glove, y_test),\n",
        "                              epochs=15,\n",
        "                              batch_size=128,\n",
        "                              verbose=2)\n",
        "\n",
        "# predict using the trained model on the testing data and convert the predicted values to labels\n",
        "predicted = model_RCNN.predict(X_test_Glove)\n",
        "predicted = np.argmax(predicted, axis=1)"
      ]
    },
    {
      "cell_type": "code",
      "execution_count": null,
      "metadata": {
        "id": "Up75LIYKO2Yf",
        "outputId": "6e8e61bf-a82c-4b5e-95d6-22d37b42326a"
      },
      "outputs": [
        {
          "name": "stdout",
          "output_type": "stream",
          "text": [
            "Performance of Recurrent Convolutional Neural Network for text classification\n",
            "              precision    recall  f1-score   support\n",
            "\n",
            "           0       0.66      0.68      0.67       319\n",
            "           1       0.66      0.66      0.66       389\n",
            "           2       0.74      0.56      0.64       394\n",
            "           3       0.53      0.61      0.57       392\n",
            "           4       0.68      0.78      0.73       385\n",
            "           5       0.75      0.75      0.75       395\n",
            "           6       0.89      0.61      0.72       390\n",
            "           7       0.93      0.75      0.83       396\n",
            "           8       0.81      0.91      0.86       398\n",
            "           9       0.84      0.94      0.89       397\n",
            "          10       0.99      0.88      0.93       399\n",
            "          11       0.81      0.85      0.83       396\n",
            "          12       0.56      0.65      0.60       393\n",
            "          13       0.71      0.90      0.79       396\n",
            "          14       0.94      0.80      0.87       394\n",
            "          15       0.79      0.85      0.82       398\n",
            "          16       0.74      0.68      0.71       364\n",
            "          17       0.98      0.78      0.87       376\n",
            "          18       0.61      0.57      0.59       310\n",
            "          19       0.42      0.58      0.48       251\n",
            "\n",
            "    accuracy                           0.75      7532\n",
            "   macro avg       0.75      0.74      0.74      7532\n",
            "weighted avg       0.76      0.75      0.75      7532\n",
            "\n"
          ]
        }
      ],
      "source": [
        "print(\"Performance of Recurrent Convolutional Neural Network for text classification\")\n",
        "print(metrics.classification_report(y_test, predicted))"
      ]
    },
    {
      "cell_type": "code",
      "execution_count": null,
      "metadata": {
        "id": "h2xGbIkSO2Yf",
        "outputId": "7290b464-657c-4dc2-9dda-e64e9a9122ba"
      },
      "outputs": [
        {
          "name": "stdout",
          "output_type": "stream",
          "text": [
            "Performance of Recurrent Convolutional Neural Network for text classification\n",
            "accuracy is 0.7450876261285183\n",
            "MCC: 0.7321255426999064\n",
            "Macro-Averaging Metrics:\n",
            "Accuracy: 0.75\n",
            "Precision: 0.75\n",
            "Recall: 0.74\n",
            "F1 Score: 0.74\n",
            "\n",
            "Micro-Averaging Metrics:\n",
            "Accuracy: 0.75\n",
            "Precision: 0.75\n",
            "Recall: 0.75\n",
            "F1 Score: 0.75\n"
          ]
        }
      ],
      "source": [
        "print(\"Performance of Recurrent Convolutional Neural Network for text classification\")\n",
        "# Accuracy score\n",
        "print('accuracy is',accuracy_score(y_test,predicted))\n",
        "mcc = matthews_corrcoef(y_test, predicted)\n",
        "print(\"MCC:\", mcc)\n",
        "# Macro-Averaging\n",
        "macro_accuracy = accuracy_score(y_test, predicted)\n",
        "macro_precision, macro_recall, macro_f1, _ = score(y_test, predicted, average='macro')\n",
        "print(\"Macro-Averaging Metrics:\")\n",
        "print(f\"Accuracy: {macro_accuracy:.2f}\")\n",
        "print(f\"Precision: {macro_precision:.2f}\")\n",
        "print(f\"Recall: {macro_recall:.2f}\")\n",
        "print(f\"F1 Score: {macro_f1:.2f}\")\n",
        "# Micro-Averaging\n",
        "micro_accuracy = accuracy_score(y_test, predicted)\n",
        "micro_precision, micro_recall, micro_f1, _ = score(y_test, predicted, average='micro')\n",
        "print(\"\\nMicro-Averaging Metrics:\")\n",
        "print(f\"Accuracy: {micro_accuracy:.2f}\")\n",
        "print(f\"Precision: {micro_precision:.2f}\")\n",
        "print(f\"Recall: {micro_recall:.2f}\")\n",
        "print(f\"F1 Score: {micro_f1:.2f}\")"
      ]
    }
  ],
  "metadata": {
    "accelerator": "GPU",
    "colab": {
      "provenance": []
    },
    "gpuClass": "standard",
    "kernelspec": {
      "display_name": "Python 3",
      "name": "python3"
    },
    "language_info": {
      "name": "python"
    }
  },
  "nbformat": 4,
  "nbformat_minor": 0
}
